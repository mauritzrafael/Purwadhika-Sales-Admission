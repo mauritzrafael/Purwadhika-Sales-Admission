{
 "cells": [
  {
   "cell_type": "markdown",
   "metadata": {},
   "source": [
    "# **Customer Enquiry ETL Process**"
   ]
  },
  {
   "cell_type": "markdown",
   "metadata": {},
   "source": [
    "## **Latar Belakang**\n",
    "\n",
    "Lembaga pendidikan merupakan industri layanan yang berfokus untuk mengembangkan pendidikan. Salah satu rahasia lembaga pendidikan dapat eksis dalam waktu yang lama, yaitu dengan memenangkan kepercayaan dari masyarakat sekitar. Kepercayaan inilah yang memimpin para orangtua untuk mendaftarkan anaknya ke lembaga pendidikan yang dapat membawa perubahan hidup yang lebih baik. Sebagai *data analyst* dalam lembaga pendidikan, saya mencoba untuk mendapatkan informasi dari data percakapan antara **Tim Pendaftaran** dan **calon prospek** agar dapat menghasilkan *tools monitoring* Tim Pendaftaran yang diharapkan dapat meningkatkan konversi *sales*."
   ]
  },
  {
   "cell_type": "markdown",
   "metadata": {},
   "source": [
    "## **Tujuan**\n",
    "\n",
    "Tujuan dari analisis data yaitu:\n",
    "1. Mengetahui jumlah calon prospek yang tidak melanjutkan *enquiry* (*lost customers*)\n",
    "2. Mengetahui produk dan cabang yang paling diminati oleh calon prospek\n",
    "3. Melakukan klasifikasi calon prospek berdasarkan percakapan"
   ]
  },
  {
   "cell_type": "code",
   "execution_count": 834,
   "metadata": {},
   "outputs": [],
   "source": [
    "# import library\n",
    "import time\n",
    "start_times = time.time()\n",
    "\n",
    "import re\n",
    "import pandas as pd\n",
    "import numpy as np\n",
    "import matplotlib.pyplot as plt\n",
    "import seaborn as sns\n",
    "import missingno as msno\n",
    "from datetime import datetime\n",
    "\n",
    "import gspread\n",
    "from google.oauth2 import service_account\n",
    "from googleapiclient.discovery import build\n",
    "from googleapiclient.http import MediaIoBaseDownload\n",
    "from io import BytesIO\n",
    "\n",
    "pd.set_option('display.max_columns', 500)\n",
    "pd.set_option('display.max_rows', 2000)\n",
    "pd.set_option('display.width', 1000)\n",
    "pd.set_option('max_colwidth', 500)\n",
    "\n",
    "import warnings\n",
    "warnings.filterwarnings('ignore', category=FutureWarning)\n",
    "warnings.filterwarnings('ignore', category=pd.errors.SettingWithCopyWarning)"
   ]
  },
  {
   "cell_type": "markdown",
   "metadata": {},
   "source": [
    "## ***Data Extract***\n",
    "- Proses ekstrak data dilakukan dengan *import* data dari *Relational Database System* (RDBS) atau tempat penyimpanan tertentu.\n",
    "- Ekstrak data pada proyek ini mengambil data yang tersimpan dalam *Google Drive* menggunakan *Google API*.\n",
    "- Pemasangan *Google API* dilakukan dengan membuat proyek pada *Google Cloud Console*, kemudian mengunduh kredensial untuk otentikasi akses.\n",
    "- Proses pengunduhan data dilakukan dengan menyertakan nama file serta folder tempat file tersebut tersimpan."
   ]
  },
  {
   "cell_type": "code",
   "execution_count": 835,
   "metadata": {},
   "outputs": [],
   "source": [
    "# Path ke service account\n",
    "SERVICE_ACCOUNT_FILE = 'customer-enquiry-431809-2ffbd2f82785.json'\n",
    "\n",
    "# Scope API\n",
    "SCOPES = ['https://www.googleapis.com/auth/drive']\n",
    "\n",
    "# Otentikasi dan pembuatan service\n",
    "credentials = service_account.Credentials.from_service_account_file(\n",
    "    SERVICE_ACCOUNT_FILE, scopes=SCOPES)\n",
    "service = build('drive', 'v3', credentials=credentials)\n",
    "\n",
    "def download_file_from_gdrive(file_name, folder_id):\n",
    "    try:\n",
    "        # Mencari file dalam folder\n",
    "        response = service.files().list(\n",
    "            q=f\"'{folder_id}' in parents and name='{file_name}'\",\n",
    "            fields='files(id)'\n",
    "        ).execute()\n",
    "        files = response.get('files', [])\n",
    "        if not files:\n",
    "            print(f\"File '{file_name}' not found in folder with ID '{folder_id}'.\")\n",
    "            return None\n",
    "\n",
    "        # Mengunduh file\n",
    "        file_id = files[0]['id']\n",
    "        request = service.files().get_media(fileId=file_id)\n",
    "        downloaded_file = BytesIO()\n",
    "        downloader = MediaIoBaseDownload(downloaded_file, request)\n",
    "        done = False\n",
    "        while not done:\n",
    "            status, done = downloader.next_chunk()\n",
    "\n",
    "        downloaded_file.seek(0)\n",
    "        return downloaded_file\n",
    "    except Exception as e:\n",
    "        print(f'An error occurred: {e}')\n",
    "        return None\n",
    "\n",
    "# Menentukan nama file dan folder yang ingin diunduh\n",
    "file_name = 'customer enquiry.csv'\n",
    "folder_id = '1_W6Ez4GH0LhezUYd7dzcwg-3sI9ayXy8'\n",
    "\n",
    "# Mengunduh data dari Google Drive\n",
    "downloaded_file = download_file_from_gdrive(file_name, folder_id)\n",
    "if downloaded_file:\n",
    "    # Konversi data menjadi dataframe\n",
    "    raw_chat = pd.read_csv(downloaded_file, dtype={'customer_id': str})"
   ]
  },
  {
   "cell_type": "code",
   "execution_count": 836,
   "metadata": {},
   "outputs": [
    {
     "name": "stdout",
     "output_type": "stream",
     "text": [
      "<class 'pandas.core.frame.DataFrame'>\n",
      "RangeIndex: 19984 entries, 0 to 19983\n",
      "Data columns (total 10 columns):\n",
      " #   Column          Non-Null Count  Dtype \n",
      "---  ------          --------------  ----- \n",
      " 0   Unnamed: 0      19984 non-null  int64 \n",
      " 1   room_id         19984 non-null  object\n",
      " 2   target_channel  19984 non-null  object\n",
      " 3   customer_id     7452 non-null   object\n",
      " 4   customer_name   7452 non-null   object\n",
      " 5   agent_name      7598 non-null   object\n",
      " 6   sender_type     19984 non-null  object\n",
      " 7   outbound_type   19984 non-null  object\n",
      " 8   text_messages   19859 non-null  object\n",
      " 9   created_at      19984 non-null  object\n",
      "dtypes: int64(1), object(9)\n",
      "memory usage: 1.5+ MB\n"
     ]
    }
   ],
   "source": [
    "# info dataframe\n",
    "raw_chat.info()"
   ]
  },
  {
   "cell_type": "markdown",
   "metadata": {},
   "source": [
    "Berdasarkan informasi data, terdapat kolom **'Unnamed: 0'** yang merupakan indeks dari tiap data. Kemudian terdapat data waktu pada kolom **'created_at'** yang masih berupa obyek. Oleh karena itu kolom **'Unnamed: 0'** <u>dihilangkan</u> dan kolom **'created_at'** diubah datanya menjadi <u>*datetime*</u>."
   ]
  },
  {
   "cell_type": "code",
   "execution_count": 837,
   "metadata": {},
   "outputs": [
    {
     "data": {
      "text/html": [
       "<div>\n",
       "<style scoped>\n",
       "    .dataframe tbody tr th:only-of-type {\n",
       "        vertical-align: middle;\n",
       "    }\n",
       "\n",
       "    .dataframe tbody tr th {\n",
       "        vertical-align: top;\n",
       "    }\n",
       "\n",
       "    .dataframe thead th {\n",
       "        text-align: right;\n",
       "    }\n",
       "</style>\n",
       "<table border=\"1\" class=\"dataframe\">\n",
       "  <thead>\n",
       "    <tr style=\"text-align: right;\">\n",
       "      <th></th>\n",
       "      <th>room_id</th>\n",
       "      <th>target_channel</th>\n",
       "      <th>customer_id</th>\n",
       "      <th>customer_name</th>\n",
       "      <th>agent_name</th>\n",
       "      <th>sender_type</th>\n",
       "      <th>outbound_type</th>\n",
       "      <th>text_messages</th>\n",
       "      <th>created_at</th>\n",
       "    </tr>\n",
       "  </thead>\n",
       "  <tbody>\n",
       "    <tr>\n",
       "      <th>0</th>\n",
       "      <td>fb35e85c-12e7-4cee-b4ea-7c1fd06969a2</td>\n",
       "      <td>Whatsapp</td>\n",
       "      <td>NaN</td>\n",
       "      <td>NaN</td>\n",
       "      <td>NaN</td>\n",
       "      <td>system</td>\n",
       "      <td>system_info</td>\n",
       "      <td>Hi👋 \\nIngin berdiskusi dengan tim admission terkait program kami? Mohon menunggu sebentar, Tim admission kami akan segera pada jam operasional kami 😁 \\nSelagi menunggu, silahkan mengisi form di bawah ini, untuk memudahkan kami dalam memberikan detail informasi yang kamu butuhkan. \\n1. Nama : \\n2. Email : \\n3. Kamu tertarik program Purwadhika yang mana? : \\n4. Informasi yang ingin diketahui : \\n5. Tahu Purwadhika pertama kali darimana? :</td>\n",
       "      <td>2023-11-06 07:05:54.755785+07:00</td>\n",
       "    </tr>\n",
       "    <tr>\n",
       "      <th>1</th>\n",
       "      <td>fb35e85c-12e7-4cee-b4ea-7c1fd06969a2</td>\n",
       "      <td>Whatsapp</td>\n",
       "      <td>NaN</td>\n",
       "      <td>NaN</td>\n",
       "      <td>NaN</td>\n",
       "      <td>system</td>\n",
       "      <td>system_info</td>\n",
       "      <td>Terima kasih telah menghubungi kami. Dalam upaya untuk terus meningkatkan kualitas layanan kami, mohon kesediaannya untuk memberikan penilaiaan singkat tentang pengalaman Anda terhadap layanan kami. Penilaian Anda akan sangat berguna untuk meningkatkan pelayanan kami ke depannya.\\nSilakan klik link di bawah ini untuk mengisi survey kepuasan pelanggan kami: https://chat.qontak.com/survey/pfzs5lhu</td>\n",
       "      <td>2023-11-06 07:05:55.144000+07:00</td>\n",
       "    </tr>\n",
       "    <tr>\n",
       "      <th>2</th>\n",
       "      <td>fb35e85c-12e7-4cee-b4ea-7c1fd06969a2</td>\n",
       "      <td>Whatsapp</td>\n",
       "      <td>NaN</td>\n",
       "      <td>NaN</td>\n",
       "      <td>NaN</td>\n",
       "      <td>system</td>\n",
       "      <td>system_info</td>\n",
       "      <td>Conversation has been resolved by &lt;b&gt;Bot&lt;/b&gt;</td>\n",
       "      <td>2023-11-06 07:05:55.259056+07:00</td>\n",
       "    </tr>\n",
       "    <tr>\n",
       "      <th>3</th>\n",
       "      <td>fb35e85c-12e7-4cee-b4ea-7c1fd06969a2</td>\n",
       "      <td>Whatsapp</td>\n",
       "      <td>NaN</td>\n",
       "      <td>NaN</td>\n",
       "      <td>NaN</td>\n",
       "      <td>system</td>\n",
       "      <td>system_info</td>\n",
       "      <td>Survey score has been sent to &lt;b&gt;Anisya Desy&lt;/b&gt;</td>\n",
       "      <td>2023-11-06 07:05:55.432142+07:00</td>\n",
       "    </tr>\n",
       "    <tr>\n",
       "      <th>4</th>\n",
       "      <td>1fd4903b-51bd-4ed0-b0d7-4fa783077143</td>\n",
       "      <td>Whatsapp</td>\n",
       "      <td>NaN</td>\n",
       "      <td>NaN</td>\n",
       "      <td>NaN</td>\n",
       "      <td>system</td>\n",
       "      <td>system_info</td>\n",
       "      <td>Hi👋 \\nIngin berdiskusi dengan tim admission terkait program kami? Mohon menunggu sebentar, Tim admission kami akan segera pada jam operasional kami 😁 \\nSelagi menunggu, silahkan mengisi form di bawah ini, untuk memudahkan kami dalam memberikan detail informasi yang kamu butuhkan. \\n1. Nama : \\n2. Email : \\n3. Kamu tertarik program Purwadhika yang mana? : \\n4. Informasi yang ingin diketahui : \\n5. Tahu Purwadhika pertama kali darimana? :</td>\n",
       "      <td>2023-11-06 07:54:46.251957+07:00</td>\n",
       "    </tr>\n",
       "  </tbody>\n",
       "</table>\n",
       "</div>"
      ],
      "text/plain": [
       "                                room_id target_channel customer_id customer_name agent_name sender_type outbound_type                                                                                                                                                                                                                                                                                                                                                                                                                                              text_messages                       created_at\n",
       "0  fb35e85c-12e7-4cee-b4ea-7c1fd06969a2       Whatsapp         NaN           NaN        NaN      system   system_info  Hi👋 \\nIngin berdiskusi dengan tim admission terkait program kami? Mohon menunggu sebentar, Tim admission kami akan segera pada jam operasional kami 😁 \\nSelagi menunggu, silahkan mengisi form di bawah ini, untuk memudahkan kami dalam memberikan detail informasi yang kamu butuhkan. \\n1. Nama : \\n2. Email : \\n3. Kamu tertarik program Purwadhika yang mana? : \\n4. Informasi yang ingin diketahui : \\n5. Tahu Purwadhika pertama kali darimana? :  2023-11-06 07:05:54.755785+07:00\n",
       "1  fb35e85c-12e7-4cee-b4ea-7c1fd06969a2       Whatsapp         NaN           NaN        NaN      system   system_info                                             Terima kasih telah menghubungi kami. Dalam upaya untuk terus meningkatkan kualitas layanan kami, mohon kesediaannya untuk memberikan penilaiaan singkat tentang pengalaman Anda terhadap layanan kami. Penilaian Anda akan sangat berguna untuk meningkatkan pelayanan kami ke depannya.\\nSilakan klik link di bawah ini untuk mengisi survey kepuasan pelanggan kami: https://chat.qontak.com/survey/pfzs5lhu 2023-11-06 07:05:55.144000+07:00\n",
       "2  fb35e85c-12e7-4cee-b4ea-7c1fd06969a2       Whatsapp         NaN           NaN        NaN      system   system_info                                                                                                                                                                                                                                                                                                                                                                                                               Conversation has been resolved by <b>Bot</b> 2023-11-06 07:05:55.259056+07:00\n",
       "3  fb35e85c-12e7-4cee-b4ea-7c1fd06969a2       Whatsapp         NaN           NaN        NaN      system   system_info                                                                                                                                                                                                                                                                                                                                                                                                           Survey score has been sent to <b>Anisya Desy</b> 2023-11-06 07:05:55.432142+07:00\n",
       "4  1fd4903b-51bd-4ed0-b0d7-4fa783077143       Whatsapp         NaN           NaN        NaN      system   system_info  Hi👋 \\nIngin berdiskusi dengan tim admission terkait program kami? Mohon menunggu sebentar, Tim admission kami akan segera pada jam operasional kami 😁 \\nSelagi menunggu, silahkan mengisi form di bawah ini, untuk memudahkan kami dalam memberikan detail informasi yang kamu butuhkan. \\n1. Nama : \\n2. Email : \\n3. Kamu tertarik program Purwadhika yang mana? : \\n4. Informasi yang ingin diketahui : \\n5. Tahu Purwadhika pertama kali darimana? :  2023-11-06 07:54:46.251957+07:00"
      ]
     },
     "execution_count": 837,
     "metadata": {},
     "output_type": "execute_result"
    }
   ],
   "source": [
    "# data cleaning\n",
    "df_chat = raw_chat.copy()\n",
    "\n",
    "# drop unnecessary column\n",
    "df_chat.drop(columns = 'Unnamed: 0', inplace=True)\n",
    "\n",
    "# cast date data into datetime and sort\n",
    "df_chat['created_at'] = df_chat['created_at'].astype('datetime64[ns, Asia/Jakarta]')\n",
    "df_chat.sort_values('created_at', inplace=True)\n",
    "\n",
    "# fill NaN text messages with empty string\n",
    "df_chat['text_messages'].fillna('', inplace=True)\n",
    "df_chat.head()"
   ]
  },
  {
   "cell_type": "markdown",
   "metadata": {},
   "source": [
    "## **Deskripsi Data**\n",
    "`df_chat` adalah data yang berisi tentang percakapan antara calon prospek dengan *admission* Purwadhika dalam lingkungan WhatsApp API Mekari. Satu baris data merupakan satu *bubble chat*.\n",
    "\n",
    "| **No.** | **Kolom** | **Deskripsi** |\n",
    "| --- | --- | --- |\n",
    "|  1. | room_id | *ID room* dari masing-masing *chat room*, biasanya 1 calon prospek mempunyai 1 room_id |\n",
    "|  2. | target_channel | Darimana calon prospek berasal (*Website/IG/Direct*) |\n",
    "|  3. | customer_id | No. HP calon prospek |\n",
    "|  4. | customer_name |  Nama/*Nickname* calon prospek |\n",
    "|  5. | agent_name | *Agent* yang melakukan prospek terhadap calon prospek |\n",
    "|  6. | sender_type | Pihak pengirim pesan (*customer/agent/system*) |\n",
    "|  7. | outbound_type | Tipe pesan (*reguler/system_info*) |\n",
    "|  8. | text_messages | Isi pesan teks |\n",
    "|  9. | created_at | Waktu pesan dikirimkan |"
   ]
  },
  {
   "cell_type": "markdown",
   "metadata": {},
   "source": [
    "## **Manipulasi Data**"
   ]
  },
  {
   "cell_type": "code",
   "execution_count": 838,
   "metadata": {},
   "outputs": [
    {
     "name": "stdout",
     "output_type": "stream",
     "text": [
      "<class 'pandas.core.frame.DataFrame'>\n",
      "Index: 19984 entries, 0 to 19983\n",
      "Data columns (total 9 columns):\n",
      " #   Column          Non-Null Count  Dtype                       \n",
      "---  ------          --------------  -----                       \n",
      " 0   room_id         19984 non-null  object                      \n",
      " 1   target_channel  19984 non-null  object                      \n",
      " 2   customer_id     7452 non-null   object                      \n",
      " 3   customer_name   7452 non-null   object                      \n",
      " 4   agent_name      7598 non-null   object                      \n",
      " 5   sender_type     19984 non-null  object                      \n",
      " 6   outbound_type   19984 non-null  object                      \n",
      " 7   text_messages   19984 non-null  object                      \n",
      " 8   created_at      19984 non-null  datetime64[ns, Asia/Jakarta]\n",
      "dtypes: datetime64[ns, Asia/Jakarta](1), object(8)\n",
      "memory usage: 1.5+ MB\n"
     ]
    }
   ],
   "source": [
    "df_chat.info()"
   ]
  },
  {
   "cell_type": "markdown",
   "metadata": {},
   "source": [
    "### ***Check Missing Value***\n",
    "- Berdasarkan info data, terdapat beberapa nilai yang berisi kosong.\n",
    "- Nilai kosong akan diperiksa lebih lanjut apakah perlu ditindaklanjuti."
   ]
  },
  {
   "cell_type": "code",
   "execution_count": 839,
   "metadata": {},
   "outputs": [
    {
     "data": {
      "text/plain": [
       "<Axes: >"
      ]
     },
     "execution_count": 839,
     "metadata": {},
     "output_type": "execute_result"
    },
    {
     "data": {
      "image/png": "[encoded data removed]",
      "text/plain": [
       "<Figure size 2500x1000 with 2 Axes>"
      ]
     },
     "metadata": {},
     "output_type": "display_data"
    }
   ],
   "source": [
    "# create missingno matrix\n",
    "msno.matrix(df_chat)"
   ]
  },
  {
   "cell_type": "markdown",
   "metadata": {},
   "source": [
    "***MissingNo Matrix*** membantu untuk visualisasi *dataframe* yang memiliki nilai kosong. Pada visualisasi ini, nilai kosong diberi warna putih sednagkan nilai yang tersedia diberi warna abu-abu. Jika diperhatikan lebih lanjut, ada pola dalam nilai kosong *dataframe* tersebut:\n",
    "\n",
    "1. Beberapa baris memiliki nilai kosong untuk tiga kolom 'customer_id', 'customer_name' dan 'agent_name'.\n",
    "2. Beberapa baris memiliki nilai kosong untuk dua kolom 'customer_id' dan 'customer_name'.\n",
    "3. Beberapa baris memiliki nilai kosong untuk satu kolom 'agent_name'.\n",
    "\n",
    "Oleh karena itu, dilakukan *sampling* untuk pengecekan seperti apa data yang kosong dalam setiap polanya."
   ]
  },
  {
   "cell_type": "code",
   "execution_count": 840,
   "metadata": {},
   "outputs": [
    {
     "data": {
      "text/html": [
       "<div>\n",
       "<style scoped>\n",
       "    .dataframe tbody tr th:only-of-type {\n",
       "        vertical-align: middle;\n",
       "    }\n",
       "\n",
       "    .dataframe tbody tr th {\n",
       "        vertical-align: top;\n",
       "    }\n",
       "\n",
       "    .dataframe thead th {\n",
       "        text-align: right;\n",
       "    }\n",
       "</style>\n",
       "<table border=\"1\" class=\"dataframe\">\n",
       "  <thead>\n",
       "    <tr style=\"text-align: right;\">\n",
       "      <th></th>\n",
       "      <th>room_id</th>\n",
       "      <th>target_channel</th>\n",
       "      <th>customer_id</th>\n",
       "      <th>customer_name</th>\n",
       "      <th>agent_name</th>\n",
       "      <th>sender_type</th>\n",
       "      <th>outbound_type</th>\n",
       "      <th>text_messages</th>\n",
       "      <th>created_at</th>\n",
       "    </tr>\n",
       "  </thead>\n",
       "  <tbody>\n",
       "    <tr>\n",
       "      <th>10998</th>\n",
       "      <td>b903dc4b-ccba-4910-bc97-a534473a68b7</td>\n",
       "      <td>Whatsapp</td>\n",
       "      <td>NaN</td>\n",
       "      <td>NaN</td>\n",
       "      <td>Bintan</td>\n",
       "      <td>agent</td>\n",
       "      <td>reguler</td>\n",
       "      <td>Oke kak :)</td>\n",
       "      <td>2023-11-13 15:43:06.128585+07:00</td>\n",
       "    </tr>\n",
       "  </tbody>\n",
       "</table>\n",
       "</div>"
      ],
      "text/plain": [
       "                                    room_id target_channel customer_id customer_name agent_name sender_type outbound_type text_messages                       created_at\n",
       "10998  b903dc4b-ccba-4910-bc97-a534473a68b7       Whatsapp         NaN           NaN    Bintan        agent       reguler    Oke kak :) 2023-11-13 15:43:06.128585+07:00"
      ]
     },
     "execution_count": 840,
     "metadata": {},
     "output_type": "execute_result"
    }
   ],
   "source": [
    "# check sampling NaN value customer\n",
    "df_chat[df_chat['customer_id'].isna()].sample(1)"
   ]
  },
  {
   "cell_type": "code",
   "execution_count": 841,
   "metadata": {},
   "outputs": [
    {
     "data": {
      "text/html": [
       "<div>\n",
       "<style scoped>\n",
       "    .dataframe tbody tr th:only-of-type {\n",
       "        vertical-align: middle;\n",
       "    }\n",
       "\n",
       "    .dataframe tbody tr th {\n",
       "        vertical-align: top;\n",
       "    }\n",
       "\n",
       "    .dataframe thead th {\n",
       "        text-align: right;\n",
       "    }\n",
       "</style>\n",
       "<table border=\"1\" class=\"dataframe\">\n",
       "  <thead>\n",
       "    <tr style=\"text-align: right;\">\n",
       "      <th></th>\n",
       "      <th>room_id</th>\n",
       "      <th>target_channel</th>\n",
       "      <th>customer_id</th>\n",
       "      <th>customer_name</th>\n",
       "      <th>agent_name</th>\n",
       "      <th>sender_type</th>\n",
       "      <th>outbound_type</th>\n",
       "      <th>text_messages</th>\n",
       "      <th>created_at</th>\n",
       "    </tr>\n",
       "  </thead>\n",
       "  <tbody>\n",
       "    <tr>\n",
       "      <th>1233</th>\n",
       "      <td>01022223-a910-4338-89c0-86cc449b2c6c</td>\n",
       "      <td>Whatsapp</td>\n",
       "      <td>+1-544-316-6999</td>\n",
       "      <td>Fikih Firmansyah</td>\n",
       "      <td>NaN</td>\n",
       "      <td>customer</td>\n",
       "      <td>reguler</td>\n",
       "      <td>Saya mau daftar kak</td>\n",
       "      <td>2023-11-06 14:12:47+07:00</td>\n",
       "    </tr>\n",
       "  </tbody>\n",
       "</table>\n",
       "</div>"
      ],
      "text/plain": [
       "                                   room_id target_channel      customer_id     customer_name agent_name sender_type outbound_type        text_messages                created_at\n",
       "1233  01022223-a910-4338-89c0-86cc449b2c6c       Whatsapp  +1-544-316-6999  Fikih Firmansyah        NaN    customer       reguler  Saya mau daftar kak 2023-11-06 14:12:47+07:00"
      ]
     },
     "execution_count": 841,
     "metadata": {},
     "output_type": "execute_result"
    }
   ],
   "source": [
    "# check sampling NaN value agent\n",
    "df_chat[df_chat['agent_name'].isna()].sample(1)"
   ]
  },
  {
   "cell_type": "code",
   "execution_count": 842,
   "metadata": {},
   "outputs": [
    {
     "data": {
      "text/html": [
       "<div>\n",
       "<style scoped>\n",
       "    .dataframe tbody tr th:only-of-type {\n",
       "        vertical-align: middle;\n",
       "    }\n",
       "\n",
       "    .dataframe tbody tr th {\n",
       "        vertical-align: top;\n",
       "    }\n",
       "\n",
       "    .dataframe thead th {\n",
       "        text-align: right;\n",
       "    }\n",
       "</style>\n",
       "<table border=\"1\" class=\"dataframe\">\n",
       "  <thead>\n",
       "    <tr style=\"text-align: right;\">\n",
       "      <th></th>\n",
       "      <th>room_id</th>\n",
       "      <th>target_channel</th>\n",
       "      <th>customer_id</th>\n",
       "      <th>customer_name</th>\n",
       "      <th>agent_name</th>\n",
       "      <th>sender_type</th>\n",
       "      <th>outbound_type</th>\n",
       "      <th>text_messages</th>\n",
       "      <th>created_at</th>\n",
       "    </tr>\n",
       "  </thead>\n",
       "  <tbody>\n",
       "    <tr>\n",
       "      <th>18149</th>\n",
       "      <td>7d964af1-1ff3-46ef-85bf-a4cc7834e8bb</td>\n",
       "      <td>Whatsapp</td>\n",
       "      <td>NaN</td>\n",
       "      <td>NaN</td>\n",
       "      <td>NaN</td>\n",
       "      <td>system</td>\n",
       "      <td>system_info</td>\n",
       "      <td>Halo 👋🏼 saya tim Admission Purwadhika\\n\\nTerima kasih ya sudah menghubungi Purwadhika Digital Technology School. \\n\\nMohon menunggu sebentar karena saya akan segera membantu kamu.\\n\\nSelagi menunggu yuk isi data kamu terlebih dahulu sehingga kami bisa melayani kamu dengan lebih baik 🙏🏼\\n\\n1. Nama :\\n2. Email :\\n3. Kamu tertarik program Purwadhika yang mana? :\\n</td>\n",
       "      <td>2023-11-17 11:53:24.087916+07:00</td>\n",
       "    </tr>\n",
       "  </tbody>\n",
       "</table>\n",
       "</div>"
      ],
      "text/plain": [
       "                                    room_id target_channel customer_id customer_name agent_name sender_type outbound_type                                                                                                                                                                                                                                                                                                                                                                text_messages                       created_at\n",
       "18149  7d964af1-1ff3-46ef-85bf-a4cc7834e8bb       Whatsapp         NaN           NaN        NaN      system   system_info  Halo 👋🏼 saya tim Admission Purwadhika\\n\\nTerima kasih ya sudah menghubungi Purwadhika Digital Technology School. \\n\\nMohon menunggu sebentar karena saya akan segera membantu kamu.\\n\\nSelagi menunggu yuk isi data kamu terlebih dahulu sehingga kami bisa melayani kamu dengan lebih baik 🙏🏼\\n\\n1. Nama :\\n2. Email :\\n3. Kamu tertarik program Purwadhika yang mana? :\\n 2023-11-17 11:53:24.087916+07:00"
      ]
     },
     "execution_count": 842,
     "metadata": {},
     "output_type": "execute_result"
    }
   ],
   "source": [
    "# check sampling NaN value agent dan customer\n",
    "df_chat[(df_chat['customer_id'].isna()) & (df_chat['agent_name'].isna())].sample(1)"
   ]
  },
  {
   "cell_type": "markdown",
   "metadata": {},
   "source": [
    "***Insight:***\n",
    "- *Missing value* berada pada kolom 'customer_id', 'customer_name', dan 'agent_name'.\n",
    "- Percakapan dari calon prospek berarti nilai dari *agent* menjadi *NaN*, dan berlaku sebaliknya.\n",
    "- Percakapan menggunakan *bot* Mekari Qontak membuat nilai dari calon prospek dan *agent* menjadi *NaN*.\n",
    "- Nilai yang kosong tidak diberikan perlakuan apapun karena setiap nilai kosong memberikan arti asal pihak yang melakukan percakapan."
   ]
  },
  {
   "cell_type": "markdown",
   "metadata": {},
   "source": [
    "### ***Customer Origin***\n",
    "\n",
    "Purwadhika memiliki tiga kontak utama, yaitu *Website*, *Whatsapp* dan *Instagram*. Ketika calon prospek melakukan kontak melalui *Website*, calon prospek akan diarahkan ke *Whatsapp* dengan *template* pesan seperti berikut:\n",
    "\n",
    "---\n",
    "Hai! Kamu akan terhubung dengan Tim Admission Job Connector Bootcamp!\n",
    "1. Nama:\n",
    "2. Email:\n",
    "3. Metode belajar:\n",
    "4. Program kelas yang ingin diikuti:\n",
    "5. Tahu Purwadhika pertama kali darimana:\n",
    "---"
   ]
  },
  {
   "cell_type": "markdown",
   "metadata": {},
   "source": [
    "- Pesan akan dikategorikan berdasarkan kontak utama yang dimiliki Purwadhika, ditambah dengan kategori 'Blast' untuk pesan yang dikirimkan *system*."
   ]
  },
  {
   "cell_type": "code",
   "execution_count": 843,
   "metadata": {},
   "outputs": [],
   "source": [
    "origin = df_chat.copy()\n",
    "origin = origin.sort_values('created_at', ascending=True)\n",
    "origin = origin.drop_duplicates(subset='room_id', keep='first')\n",
    "\n",
    "# membuat kolom baru\n",
    "origin['customer_origin'] = None\n",
    "\n",
    "# percakapan dari system ditandai 'Blast'\n",
    "origin['customer_origin'] = np.where(origin['sender_type']=='system', 'Blast', origin['customer_origin'])\n",
    "\n",
    "# Mengubah template Bahasa Inggris\n",
    "origin['text_messages'] = origin['text_messages'].str.replace('Hi! Thank you for contacting Purwadhika', 'Hai! Kamu akan terhubung dengan Tim Admission')\n",
    "\n",
    "# Template website\n",
    "origin['customer_origin'] = np.where((origin['sender_type']=='customer') & (origin['text_messages'].str.contains('Hai! Kamu akan terhubung dengan Tim Admission', case=False)), 'Website', origin['customer_origin'])\n",
    "\n",
    "# Replace value None kolom 'customer_origin' dengan value asli dari 'target_channel'\n",
    "origin['customer_origin'] = np.where(origin['customer_origin'].isna(), origin['target_channel'], origin['customer_origin'])\n",
    "\n",
    "# Chat langsung melalui Whatsapp diubah menjadi Direct (tidak menggunakan template)\n",
    "origin['customer_origin'] = origin['customer_origin'].replace('Whatsapp', 'Direct')"
   ]
  },
  {
   "cell_type": "code",
   "execution_count": 844,
   "metadata": {},
   "outputs": [
    {
     "data": {
      "text/plain": [
       "customer_origin\n",
       "Blast      2016\n",
       "Website     500\n",
       "Direct      328\n",
       "Name: count, dtype: int64"
      ]
     },
     "execution_count": 844,
     "metadata": {},
     "output_type": "execute_result"
    }
   ],
   "source": [
    "origin = origin[['room_id', 'customer_origin']]\n",
    "origin['customer_origin'].value_counts()"
   ]
  },
  {
   "cell_type": "markdown",
   "metadata": {},
   "source": [
    "Terdapat banyak percakapan yang berupa 'Blast' atau dihasilkan *system*. Hal ini sangat mungkin terjadi karena banyaknya kontak yang tersimpan dalam Mekari Qontak sejak tahun 2022 dan tetap menerima pesan *system*, contohnya pengiriman promo dan *event* Purwadhika."
   ]
  },
  {
   "cell_type": "markdown",
   "metadata": {},
   "source": [
    "### ***Agent Handler***\n",
    "\n",
    "- Calon prospek yang melakukan *enquiry* akan dilayani oleh *agent* Tim Pendaftaran Purwadhika. \n",
    "- Pada kolom ini, *agent handler* ditentukan berdasarkan nama *agent* yang paling banyak melakukan percakapan dengan calon prospek."
   ]
  },
  {
   "cell_type": "code",
   "execution_count": 845,
   "metadata": {},
   "outputs": [],
   "source": [
    "agent_handler = df_chat.copy()"
   ]
  },
  {
   "cell_type": "code",
   "execution_count": 846,
   "metadata": {},
   "outputs": [],
   "source": [
    "agent_handler = agent_handler[agent_handler['sender_type']=='agent']\n",
    "agent_handler['agent_handler'] = agent_handler.groupby('room_id')['agent_name'].transform(lambda x: x.value_counts().idxmax())"
   ]
  },
  {
   "cell_type": "code",
   "execution_count": 847,
   "metadata": {},
   "outputs": [],
   "source": [
    "agent_handler = agent_handler[['room_id', 'agent_handler']]\n",
    "agent_handler = agent_handler.drop_duplicates()"
   ]
  },
  {
   "cell_type": "markdown",
   "metadata": {},
   "source": [
    "### ***Products***\n",
    "\n",
    "- Pada saat pertama kali calon prospek menghubungi Tim Pendaftaran Purwadhika, calon prospek menyatakan produk *bootcamp* Purwadhika yang diminati.\n",
    "- Ada calon prospek yang berasal dari *Website* sehingga diberikan template untuk memudahkan ekstrak data, namun ada juga yang langsung menghubungi melalui *Whatsapp/Instagram*. Pada kolom ini, informasi produk akan diekstrak dari pesan baik yang sesuai template atau tidak."
   ]
  },
  {
   "cell_type": "markdown",
   "metadata": {},
   "source": [
    "#### ***Template***\n",
    "- Calon prospek mengisi *template* seperti yang tertulis pada bagian **Customer Origin**.\n",
    "- Produk bootcamp diekstrak menggunakan frasa dari *template* seperti berikut:\n",
    "\n",
    "Hai! Kamu akan terhubung dengan Tim Admission Job Connector Bootcamp!\n",
    "1. Nama:\n",
    "2. Email:\n",
    "3. Metode belajar: </br>\n",
    "4. **Program kelas yang ingin diikuti:**\n",
    "5. Tahu Purwadhika pertama kali darimana:"
   ]
  },
  {
   "cell_type": "code",
   "execution_count": 848,
   "metadata": {},
   "outputs": [],
   "source": [
    "products_prep = df_chat.copy()\n",
    "\n",
    "# Mengubah template Bahasa Inggris\n",
    "products_prep['text_messages'] = products_prep['text_messages'].str.replace('Hi! Thank you for contacting Purwadhika', 'Hai! Kamu akan terhubung dengan Tim Admission')\n",
    "products_prep['text_messages'] = products_prep['text_messages'].str.replace('Which classes are you interested in joining from the Job Connector International Program?', 'Program kelas yang ingin diikuti')\n",
    "\n",
    "# Fungsi untuk mengekstrak informasi program kelas dengan regex\n",
    "def extract_program(text):\n",
    "    match = re.search(r'Program kelas yang ingin diikuti: (.+?)(?=\\n|$)', text)\n",
    "    if match:\n",
    "        program = match.group(1).strip()\n",
    "        # Mengambil teks dari awal hingga titik pertama, jika ada\n",
    "        return program.split('.')[0]\n",
    "    return None\n",
    "\n",
    "products = products_prep.copy()\n",
    "# Membuat kolom baru 'product' dengan data yang diekstrak\n",
    "products['products'] = products['text_messages'].apply(extract_program)"
   ]
  },
  {
   "cell_type": "markdown",
   "metadata": {},
   "source": [
    "***Cleaning Values***\n",
    "- Membersihkan hasil yang didapat dari ekstrak produk."
   ]
  },
  {
   "cell_type": "code",
   "execution_count": 849,
   "metadata": {},
   "outputs": [],
   "source": [
    "products['products'] = products['products'].str.replace('_1', '-')\n",
    "products['products'] = products['products'].str.replace(' 0', '')\n",
    "products['products'] = products['products'].str.replace(' 5', '')\n",
    "products['products'] = products['products'].str.replace(' 6', '')\n",
    "products['products'] = products['products'].str.replace(':r ', '')\n",
    "products['products'] = products['products'].str.replace(':  ', '')\n",
    "products['products'] = products['products'].str.replace(': ', '')"
   ]
  },
  {
   "cell_type": "code",
   "execution_count": 850,
   "metadata": {},
   "outputs": [],
   "source": [
    "products['products'] = products['products'].replace('Job Connector Bootcamp UI/UX Designer', 'Job Connector Bootcamp UI/UX Design')\n",
    "products['products'] = products['products'].replace('Full Stack Digital Marketing', 'Job Connector Bootcamp Digital Marketing')\n",
    "products['products'] = products['products'].replace('Digital Talent Incubator Data analyst', 'Digital Talent Incubator Data Science and Machine Learning')\n",
    "products['products'] = products['products'].replace('Digital Talent Incubator Data Science & Machine Learning', 'Digital Talent Incubator Data Science and Machine Learning')\n",
    "products['products'] = products['products'].replace('Job Connector Bootcamp fullstack web development', 'Job Connector Bootcamp Fullstack Web Development')\n",
    "products['products'] = products['products'].replace('Skill Accelerator Bootcamp UI/UX', 'Skill Accelerator Bootcamp UI/UX Design')\n",
    "products['products'] = products['products'].replace('Job Connector Bootcamp Full stack Web Development', 'Job Connector Bootcamp Fullstack Web Development')\n",
    "products['products'] = products['products'].replace('Job Connector Bootcamp - data science & machine learning', 'Job Connector Bootcamp Data Science and Machine Learning')\n",
    "products['products'] = products['products'].replace('Job Connector Bootcamp Data Science & Machine Learning', 'Job Connector Bootcamp Data Science and Machine Learning')\n",
    "products['products'] = products['products'].replace('Job Connector Bootcamp Data Science and Machine Learning (Online)', 'Job Connector Bootcamp Data Science and Machine Learning')\n",
    "products['products'] = products['products'].replace('Job Connector  Bootcamp Fullstack Web Development', 'Job Connector Bootcamp Fullstack Web Development')\n",
    "products['products'] = products['products'].replace('Jobb Connector Bootcamp Digital Marketing', 'Job Connector Bootcamp Digital Marketing')\n",
    "products['products'] = products['products'].replace('Data Analytics', 'Skill Accelerator Bootcamp Data Analytics')\n",
    "products['products'] = products['products'].replace('Skill Accelerator Digital Marketing', 'Skill Accelerator Bootcamp Digital Marketing 360')\n",
    "products['products'] = products['products'].replace('SEO Specialist', 'Skill Accelerator Bootcamp Search Engine Optimization (SEO)')\n",
    "\n"
   ]
  },
  {
   "cell_type": "code",
   "execution_count": 851,
   "metadata": {},
   "outputs": [
    {
     "data": {
      "text/html": [
       "<div>\n",
       "<style scoped>\n",
       "    .dataframe tbody tr th:only-of-type {\n",
       "        vertical-align: middle;\n",
       "    }\n",
       "\n",
       "    .dataframe tbody tr th {\n",
       "        vertical-align: top;\n",
       "    }\n",
       "\n",
       "    .dataframe thead th {\n",
       "        text-align: right;\n",
       "    }\n",
       "</style>\n",
       "<table border=\"1\" class=\"dataframe\">\n",
       "  <thead>\n",
       "    <tr style=\"text-align: right;\">\n",
       "      <th></th>\n",
       "      <th>products</th>\n",
       "    </tr>\n",
       "    <tr>\n",
       "      <th>room_id</th>\n",
       "      <th></th>\n",
       "    </tr>\n",
       "  </thead>\n",
       "  <tbody>\n",
       "    <tr>\n",
       "      <th>06cf18b2-e435-46aa-8264-25bb078dbdfd</th>\n",
       "      <td>Job Connector Bootcamp Fullstack Web Development</td>\n",
       "    </tr>\n",
       "    <tr>\n",
       "      <th>551f25d3-236a-40f1-b9f9-7fb09d76e9af</th>\n",
       "      <td>Job Connector Bootcamp Fullstack Web Development</td>\n",
       "    </tr>\n",
       "    <tr>\n",
       "      <th>20c7c8f9-4d8b-47b6-bcef-908b3f55846b</th>\n",
       "      <td>Job Connector Bootcamp Data Science and Machine Learning</td>\n",
       "    </tr>\n",
       "    <tr>\n",
       "      <th>7eaba296-86c8-41ba-b46b-36180948d3ee</th>\n",
       "      <td>Skill Accelerator Bootcamp Data Analytics</td>\n",
       "    </tr>\n",
       "    <tr>\n",
       "      <th>495e74c7-e7cd-4453-9702-b7621b16ae51</th>\n",
       "      <td>Job Connector Bootcamp Fullstack Web Development</td>\n",
       "    </tr>\n",
       "  </tbody>\n",
       "</table>\n",
       "</div>"
      ],
      "text/plain": [
       "                                                                                      products\n",
       "room_id                                                                                       \n",
       "06cf18b2-e435-46aa-8264-25bb078dbdfd          Job Connector Bootcamp Fullstack Web Development\n",
       "551f25d3-236a-40f1-b9f9-7fb09d76e9af          Job Connector Bootcamp Fullstack Web Development\n",
       "20c7c8f9-4d8b-47b6-bcef-908b3f55846b  Job Connector Bootcamp Data Science and Machine Learning\n",
       "7eaba296-86c8-41ba-b46b-36180948d3ee                 Skill Accelerator Bootcamp Data Analytics\n",
       "495e74c7-e7cd-4453-9702-b7621b16ae51          Job Connector Bootcamp Fullstack Web Development"
      ]
     },
     "execution_count": 851,
     "metadata": {},
     "output_type": "execute_result"
    }
   ],
   "source": [
    "# Dataframe products menggunakan template\n",
    "products = products[['room_id', 'products']]\n",
    "products = products.dropna()\n",
    "products = products.drop_duplicates(subset='room_id', keep='last')\n",
    "products.set_index('room_id', inplace=True)\n",
    "products.head()"
   ]
  },
  {
   "cell_type": "markdown",
   "metadata": {},
   "source": [
    "#### ***Non-Template***\n",
    "\n",
    "- Praktis dalam kesehariannya, banyak calon prospek yang menghubungi langsung melalui *Whatsapp* dan tidak menggunakan *template*.\n",
    "- Contoh: \n",
    "\n",
    "*\"Kak saya minat pada program bootcamp data science\"*"
   ]
  },
  {
   "cell_type": "code",
   "execution_count": 852,
   "metadata": {},
   "outputs": [],
   "source": [
    "products_no = products_prep.copy()\n",
    "\n",
    "# Melakukan merge data dengan dataframe products\n",
    "products_no = products_no[['target_channel', 'room_id', 'sender_type', 'text_messages', 'created_at']]\n",
    "products_no = products_no.merge(right=products, left_on='room_id', right_on='room_id', how='left')\n",
    "products_no = products_no[products_no['products'].isna()]"
   ]
  },
  {
   "cell_type": "code",
   "execution_count": 853,
   "metadata": {},
   "outputs": [
    {
     "data": {
      "text/plain": [
       "statement\n",
       "statement    7092\n",
       "question     2934\n",
       "Name: count, dtype: int64"
      ]
     },
     "execution_count": 853,
     "metadata": {},
     "output_type": "execute_result"
    }
   ],
   "source": [
    "# klasifikasi pernyataan dan pertanyaan\n",
    "products_no['statement'] = products_no['text_messages'].apply(lambda x: 'question' if '?' in x else 'statement')\n",
    "products_no['statement'].value_counts()"
   ]
  },
  {
   "cell_type": "markdown",
   "metadata": {},
   "source": [
    "Ciri-ciri percakapan yang ingin ditangkap yaitu:\n",
    "- Percakapan yang merupakan pernyataan\n",
    "- Berasal dari calon prospek\n",
    "- Pesan dari *Whatsapp*"
   ]
  },
  {
   "cell_type": "code",
   "execution_count": 854,
   "metadata": {},
   "outputs": [],
   "source": [
    "# filter percakapan yang berupa pernyataan, percakapan calon prospek dan berasal dari Whatsapp\n",
    "products_no = products_no[products_no['statement'] == 'statement']\n",
    "products_no = products_no[products_no['sender_type'] == 'customer']\n",
    "products_no = products_no[products_no['target_channel'] == 'Whatsapp']\n",
    "products_no['text_messages'] = products_no['text_messages'].apply(lambda x : x.lower())"
   ]
  },
  {
   "cell_type": "code",
   "execution_count": 855,
   "metadata": {},
   "outputs": [],
   "source": [
    "# dataframe products yang tidak terdeteksi melalui template\n",
    "products_no_na = products_no[(products_no['products'].isna()) | (products_no['products'] == '-')]"
   ]
  },
  {
   "cell_type": "markdown",
   "metadata": {},
   "source": [
    "***Find Product***"
   ]
  },
  {
   "cell_type": "code",
   "execution_count": 856,
   "metadata": {},
   "outputs": [],
   "source": [
    "# function find_product\n",
    "def find_product(text):\n",
    "    list_product = []\n",
    "    # produk Digital Talent Incubator\n",
    "    if 'digital talent incubator' in text or 'dti' in text:\n",
    "        if 'digital marketing' in text:\n",
    "            list_product.append('dtidm')\n",
    "        elif 'data science' in text:\n",
    "            list_product.append('dtids')\n",
    "        elif 'software' in text:\n",
    "            list_product.append('dtise')\n",
    "        else:\n",
    "            list_product.append('dti')\n",
    "    # produk Job Connector & Skill Accelerator Bootcamp\n",
    "    elif 'data science' in text:\n",
    "        list_product.append('ds')\n",
    "    elif 'full stack' in text or 'fullstack' in text or 'web development' in text:\n",
    "        list_product.append('jcwd')\n",
    "    elif 'ui/ux' in text:\n",
    "        list_product.append('ui/ux')\n",
    "    elif 'visual design' in text:\n",
    "        list_product.append('jcvd')\n",
    "    elif 'data analytics' in text:\n",
    "        list_product.append('sabda')\n",
    "    elif 'digital marketing 360' in text or '360' in text:\n",
    "        list_product.append('360')\n",
    "    elif 'digital marketing' in text:\n",
    "        list_product.append('dm')\n",
    "    elif 'skill accelerator' in text or 'ads' in text or 'digital marketing ads' in text:\n",
    "        list_product.append('ad')\n",
    "    elif 'search engine optimization' in text or 'seo' in text:\n",
    "        list_product.append('seo')\n",
    "    elif 'skill accelerator' in text and 'ui/ux' in text:\n",
    "        list_product.append('sabui/ux')\n",
    "    elif 'skill accelerator' in text and 'product management' in text:\n",
    "        list_product.append('sabpm')\n",
    "    elif 'product management' in text:\n",
    "        list_product.append('jcpm')\n",
    "\n",
    "    return ''.join(list_product) if list_product else ''"
   ]
  },
  {
   "cell_type": "code",
   "execution_count": 857,
   "metadata": {},
   "outputs": [],
   "source": [
    "# Apply function\n",
    "products_no_na['search'] = products_no_na['text_messages'].apply(find_product)"
   ]
  },
  {
   "cell_type": "markdown",
   "metadata": {},
   "source": [
    "**Menggabungkan beberapa produk yang kemungkinan ditanyakan dalam satu *chat room* yang sama**\n",
    "\n",
    "- Ada kemungkinan calon prospek menyatakan minat terhadap beberapa produk, sehingga informasi yang ingin didapatkan akan mencakup semua yang disebutkan calon prospek."
   ]
  },
  {
   "cell_type": "code",
   "execution_count": 858,
   "metadata": {},
   "outputs": [],
   "source": [
    "products_no_na = products_no_na.sort_values(by='room_id')[['room_id','search']]"
   ]
  },
  {
   "cell_type": "code",
   "execution_count": 859,
   "metadata": {},
   "outputs": [],
   "source": [
    "result_dict = {}\n",
    "# Loop through each row in the DataFrame\n",
    "for index, row in products_no_na.iterrows():\n",
    "    room_id = row['room_id']\n",
    "    search = row['search']\n",
    "    if room_id in result_dict:\n",
    "        if search not in result_dict[room_id]:\n",
    "            result_dict[room_id] += search\n",
    "    else:\n",
    "        result_dict[room_id] = search\n",
    "# Convert the dictionary to a DataFrame\n",
    "result = pd.DataFrame(list(result_dict.items()), columns=['room_id_no', 'search'])"
   ]
  },
  {
   "cell_type": "markdown",
   "metadata": {},
   "source": [
    "***Cleaning Values***\n",
    "\n",
    "- Banyaknya teks yang tidak beraturan sehingga akan dibersihkan terlebih dahulu untuk diproses lebih lanjut."
   ]
  },
  {
   "cell_type": "code",
   "execution_count": 860,
   "metadata": {},
   "outputs": [],
   "source": [
    "# Function untuk mengganti kata kunci\n",
    "def replace_multiple(text, replace_dict):\n",
    "    for key, value in replace_dict.items():\n",
    "        text = text.replace(key, value)\n",
    "    return text"
   ]
  },
  {
   "cell_type": "code",
   "execution_count": 861,
   "metadata": {},
   "outputs": [],
   "source": [
    "dict_cleaning_search = {\n",
    "    'seodm' : 'seo, jcdm',\n",
    "    'jcwdad' : 'jcwd, ad',\n",
    "    '360ad' : '360, ad',\n",
    "    'dsjcwd' : 'jcds, jcwd',\n",
    "    'dsdm' : 'jcds, jcdm',\n",
    "    'jcwdds' : 'jcwd, jcds',\n",
    "    '360ad' : '360, ad',\n",
    "    'dtiad' : 'dti, ad',\n",
    "    'dmdti' : 'dtidm',\n",
    "    'dsdti' : 'dtids',\n",
    "    'addm' : 'ad',\n",
    "    'dmad' : 'ad',\n",
    "    'adds' : 'ad, jcds',\n",
    "    'dsad' : 'jcds, ad',\n",
    "    'addti' : 'ad, dti',\n",
    "    'seoad' : 'seo, ad',\n",
    "    'sabdaad' : 'sabda, ad',\n",
    "    'adsabda' : 'sabda, ad',\n",
    "    'dm360' : '360',\n",
    "    'adui/ux' : 'ad, ui/ux',\n",
    "    'dmds' : 'jcds, jcdm',\n",
    "    'dmseo' : 'seo, jcdm',\n",
    "    'adjcwd' : 'jcwd, ad'\n",
    "}\n",
    "\n",
    "result['search'] = result['search'].apply(replace_multiple, replace_dict = dict_cleaning_search)"
   ]
  },
  {
   "cell_type": "markdown",
   "metadata": {},
   "source": [
    "**Penyeragaman *products***\n",
    "\n",
    "- Setelah produk dipisahkan dan diseragamkan, setiap nilainya diubah dengan nama produk resmi yang dimiliki Purwadhika."
   ]
  },
  {
   "cell_type": "code",
   "execution_count": 862,
   "metadata": {},
   "outputs": [],
   "source": [
    "dict_correct_product = {\n",
    "    'dtidm' : 'Digital Talent Incubator Digital Marketing',\n",
    "    'dtids' : 'Digital Talent Incubator Data Science and Machine Learning',\n",
    "    'dtise' : 'Digital Talent Incubator Software Engineering',\n",
    "    '360' : 'Skill Accelerator Bootcamp Digital Marketing 360',\n",
    "    'sabda' : 'Skill Accelerator Bootcamp Data Analytics',\n",
    "    'sabpm' : 'Skill Accelerator Bootcamp Product Management',\n",
    "    'jcvd' : 'Job Connector Bootcamp Visual Design',\n",
    "    'jcwd' : 'Job Connector Bootcamp Fullstack Web Development',\n",
    "    'jcpm' : 'Job Connector Bootcamp Product Management',\n",
    "    'jcds' : 'Job Connector Bootcamp Data Science and Machine Learning',\n",
    "    'ui/ux' : 'Job Connector Bootcamp UI/UX Design',\n",
    "    'jcdm' : 'Job Connector Bootcamp Digital Marketing',\n",
    "    'seo' : 'Skill Accelerator Bootcamp Search Engine Optimization (SEO)',\n",
    "    'dti' : 'Digital Talent Incubator',\n",
    "    'ds' : 'Job Connector Bootcamp Data Science and Machine Learning',\n",
    "    'ad' : 'Skill Accelerator Bootcamp Digital Marketing Ads',\n",
    "    'dm' : 'Job Connector Bootcamp Digital Marketing'\n",
    "}"
   ]
  },
  {
   "cell_type": "code",
   "execution_count": 863,
   "metadata": {},
   "outputs": [],
   "source": [
    "# Apply function\n",
    "result['search'] = result['search'].apply(replace_multiple, replace_dict=dict_correct_product)"
   ]
  },
  {
   "cell_type": "code",
   "execution_count": 864,
   "metadata": {},
   "outputs": [
    {
     "data": {
      "text/html": [
       "<div>\n",
       "<style scoped>\n",
       "    .dataframe tbody tr th:only-of-type {\n",
       "        vertical-align: middle;\n",
       "    }\n",
       "\n",
       "    .dataframe tbody tr th {\n",
       "        vertical-align: top;\n",
       "    }\n",
       "\n",
       "    .dataframe thead th {\n",
       "        text-align: right;\n",
       "    }\n",
       "</style>\n",
       "<table border=\"1\" class=\"dataframe\">\n",
       "  <thead>\n",
       "    <tr style=\"text-align: right;\">\n",
       "      <th></th>\n",
       "      <th>search</th>\n",
       "    </tr>\n",
       "    <tr>\n",
       "      <th>room_id_no</th>\n",
       "      <th></th>\n",
       "    </tr>\n",
       "  </thead>\n",
       "  <tbody>\n",
       "    <tr>\n",
       "      <th>05322c19-9ed5-4e0b-b2aa-3ffde4efc6ec</th>\n",
       "      <td>Job Connector Bootcamp Data Science and Machine Learning</td>\n",
       "    </tr>\n",
       "    <tr>\n",
       "      <th>0718d5e1-cb2a-4832-b35d-db0ce60c1070</th>\n",
       "      <td>Job Connector Bootcamp Fullstack Web Development</td>\n",
       "    </tr>\n",
       "    <tr>\n",
       "      <th>0ab27537-59d4-4479-9494-587dbe59ace5</th>\n",
       "      <td>Job Connector Bootcamp Data Science and Machine Learning</td>\n",
       "    </tr>\n",
       "    <tr>\n",
       "      <th>0c482266-fa6d-404e-bde5-9709d297acf1</th>\n",
       "      <td>Digital Talent Incubator</td>\n",
       "    </tr>\n",
       "    <tr>\n",
       "      <th>0f3ff377-7a7b-4af4-ada0-f85ad1b6c21c</th>\n",
       "      <td>Digital Talent Incubator</td>\n",
       "    </tr>\n",
       "  </tbody>\n",
       "</table>\n",
       "</div>"
      ],
      "text/plain": [
       "                                                                                        search\n",
       "room_id_no                                                                                    \n",
       "05322c19-9ed5-4e0b-b2aa-3ffde4efc6ec  Job Connector Bootcamp Data Science and Machine Learning\n",
       "0718d5e1-cb2a-4832-b35d-db0ce60c1070          Job Connector Bootcamp Fullstack Web Development\n",
       "0ab27537-59d4-4479-9494-587dbe59ace5  Job Connector Bootcamp Data Science and Machine Learning\n",
       "0c482266-fa6d-404e-bde5-9709d297acf1                                  Digital Talent Incubator\n",
       "0f3ff377-7a7b-4af4-ada0-f85ad1b6c21c                                  Digital Talent Incubator"
      ]
     },
     "execution_count": 864,
     "metadata": {},
     "output_type": "execute_result"
    }
   ],
   "source": [
    "result = result[result['search'] != '']\n",
    "result.set_index('room_id_no', inplace=True)\n",
    "result.head()"
   ]
  },
  {
   "cell_type": "markdown",
   "metadata": {},
   "source": [
    "**Menggabungkan *dataframe* dengan *products (by template)***"
   ]
  },
  {
   "cell_type": "code",
   "execution_count": 865,
   "metadata": {},
   "outputs": [],
   "source": [
    "final_products = pd.concat(objs= [products, result], axis = 1, join = 'outer')"
   ]
  },
  {
   "cell_type": "code",
   "execution_count": 866,
   "metadata": {},
   "outputs": [],
   "source": [
    "# final_products['room_id'] = np.where(final_products['room_id'].isna(), final_products['room_id_no'], final_products['room_id'])\n",
    "final_products['products'] = np.where(final_products['products'].isna(), final_products['search'], final_products['products'])\n",
    "final_products.drop(columns=['search'], inplace = True)\n",
    "final_products['products'] = final_products['products'].str.replace(' 4', '')"
   ]
  },
  {
   "cell_type": "code",
   "execution_count": 867,
   "metadata": {},
   "outputs": [
    {
     "data": {
      "text/html": [
       "<div>\n",
       "<style scoped>\n",
       "    .dataframe tbody tr th:only-of-type {\n",
       "        vertical-align: middle;\n",
       "    }\n",
       "\n",
       "    .dataframe tbody tr th {\n",
       "        vertical-align: top;\n",
       "    }\n",
       "\n",
       "    .dataframe thead th {\n",
       "        text-align: right;\n",
       "    }\n",
       "</style>\n",
       "<table border=\"1\" class=\"dataframe\">\n",
       "  <thead>\n",
       "    <tr style=\"text-align: right;\">\n",
       "      <th></th>\n",
       "      <th>room_id</th>\n",
       "      <th>products</th>\n",
       "    </tr>\n",
       "  </thead>\n",
       "  <tbody>\n",
       "    <tr>\n",
       "      <th>0</th>\n",
       "      <td>06cf18b2-e435-46aa-8264-25bb078dbdfd</td>\n",
       "      <td>Job Connector Bootcamp Fullstack Web Development</td>\n",
       "    </tr>\n",
       "    <tr>\n",
       "      <th>1</th>\n",
       "      <td>551f25d3-236a-40f1-b9f9-7fb09d76e9af</td>\n",
       "      <td>Job Connector Bootcamp Fullstack Web Development</td>\n",
       "    </tr>\n",
       "    <tr>\n",
       "      <th>2</th>\n",
       "      <td>20c7c8f9-4d8b-47b6-bcef-908b3f55846b</td>\n",
       "      <td>Job Connector Bootcamp Data Science and Machine Learning</td>\n",
       "    </tr>\n",
       "    <tr>\n",
       "      <th>3</th>\n",
       "      <td>7eaba296-86c8-41ba-b46b-36180948d3ee</td>\n",
       "      <td>Skill Accelerator Bootcamp Data Analytics</td>\n",
       "    </tr>\n",
       "    <tr>\n",
       "      <th>4</th>\n",
       "      <td>495e74c7-e7cd-4453-9702-b7621b16ae51</td>\n",
       "      <td>Job Connector Bootcamp Fullstack Web Development</td>\n",
       "    </tr>\n",
       "  </tbody>\n",
       "</table>\n",
       "</div>"
      ],
      "text/plain": [
       "                                room_id                                                  products\n",
       "0  06cf18b2-e435-46aa-8264-25bb078dbdfd          Job Connector Bootcamp Fullstack Web Development\n",
       "1  551f25d3-236a-40f1-b9f9-7fb09d76e9af          Job Connector Bootcamp Fullstack Web Development\n",
       "2  20c7c8f9-4d8b-47b6-bcef-908b3f55846b  Job Connector Bootcamp Data Science and Machine Learning\n",
       "3  7eaba296-86c8-41ba-b46b-36180948d3ee                 Skill Accelerator Bootcamp Data Analytics\n",
       "4  495e74c7-e7cd-4453-9702-b7621b16ae51          Job Connector Bootcamp Fullstack Web Development"
      ]
     },
     "execution_count": 867,
     "metadata": {},
     "output_type": "execute_result"
    }
   ],
   "source": [
    "final_products.reset_index(inplace=True)\n",
    "final_products.rename(columns={'index' : 'room_id'}, inplace=True)\n",
    "final_products.head()"
   ]
  },
  {
   "cell_type": "markdown",
   "metadata": {},
   "source": [
    "### ***Branch***\n",
    "\n",
    "- Pada saat pertama kali calon prospek menghubungi Tim Pendaftaran Purwadhika, calon prospek menyatakan cabang *bootcamp* Purwadhika yang diminati.\n",
    "- Ada calon prospek yang berasal dari *Website* sehingga diberikan template untuk memudahkan ekstrak data, namun ada juga yang langsung menghubungi melalui *Whatsapp/Instagram*. Pada kolom ini, informasi produk akan diekstrak dari pesan baik yang sesuai template atau tidak."
   ]
  },
  {
   "cell_type": "markdown",
   "metadata": {},
   "source": [
    "#### ***Template***\n",
    "\n",
    "- Calon prospek mengisi *template* seperti yang tertulis pada bagian **Customer Origin**.\n",
    "- Cabang *bootcamp* diekstrak menggunakan frasa dari *template* seperti berikut:\n",
    "\n",
    "Hai! Kamu akan terhubung dengan Tim *Admission Job Connector Bootcamp*!\n",
    "1. Nama:\n",
    "2. Email: </br>\n",
    "3. **Metode belajar:**\n",
    "4. Program kelas yang ingin diikuti:\n",
    "5. Tahu Purwadhika pertama kali darimana:"
   ]
  },
  {
   "cell_type": "code",
   "execution_count": 868,
   "metadata": {},
   "outputs": [],
   "source": [
    "branch_prep = df_chat.copy()\n",
    "branch_prep = branch_prep[['room_id', 'target_channel', 'text_messages', 'created_at', 'sender_type']]"
   ]
  },
  {
   "cell_type": "code",
   "execution_count": 869,
   "metadata": {},
   "outputs": [
    {
     "data": {
      "text/plain": [
       "statement\n",
       "statement    14384\n",
       "question      5600\n",
       "Name: count, dtype: int64"
      ]
     },
     "execution_count": 869,
     "metadata": {},
     "output_type": "execute_result"
    }
   ],
   "source": [
    "# klasifikasi pernyataan dan pertanyaan\n",
    "branch_prep['statement'] = branch_prep['text_messages'].apply(lambda x: 'question' if '?' in x else 'statement')\n",
    "branch_prep['statement'].value_counts()"
   ]
  },
  {
   "cell_type": "markdown",
   "metadata": {},
   "source": [
    "Ciri-ciri percakapan yang ingin ditangkap yaitu:\n",
    "- Percakapan yang merupakan pernyataan\n",
    "- Berasal dari calon prospek\n",
    "- Pesan dari *Whatsapp*"
   ]
  },
  {
   "cell_type": "code",
   "execution_count": 870,
   "metadata": {},
   "outputs": [],
   "source": [
    "# pilih hanya percakapan customer, pernyataan dan Whatsapp\n",
    "branch_prep = branch_prep[branch_prep['sender_type'] == 'customer']\n",
    "branch_prep = branch_prep[branch_prep['statement'] == 'statement']\n",
    "branch_prep = branch_prep[branch_prep['target_channel'] == 'Whatsapp']\n",
    "\n",
    "branch_prep = branch_prep[['room_id', 'text_messages', 'created_at']]"
   ]
  },
  {
   "cell_type": "code",
   "execution_count": 871,
   "metadata": {},
   "outputs": [],
   "source": [
    "branch_template = branch_prep.copy()\n",
    "\n",
    "# Mengubah template Bahasa Inggris\n",
    "branch_template['text_messages'] = branch_template['text_messages'].str.replace('Hi! Thank you for contacting Purwadhika', 'Hai! Kamu akan terhubung dengan Tim Admission')\n",
    "branch_template['text_messages'] = branch_template['text_messages'].str.replace('Study method:', 'Metode belajar:')\n",
    "\n",
    "branch_template = branch_template[branch_template['text_messages'].str.contains('Hai! Kamu akan terhubung dengan Tim Admission', case=False)]\n",
    "\n",
    "# Fungsi untuk mengekstrak informasi program kelas dengan regex\n",
    "def extract_branch(text):\n",
    "    match = re.search(r'Metode belajar: (.+?)(?=\\n|$)', text)\n",
    "    if match:\n",
    "        branch_template = match.group(1).strip()\n",
    "        # Mengambil teks dari awal hingga titik pertama, jika ada\n",
    "        return branch_template.lower().split('.')[0]\n",
    "    return None\n",
    "\n",
    "# Fungsi untuk menambah spasi sebelum dan sesudah tanda baca\n",
    "def add_spaces_around_punctuation(text):\n",
    "    # Pattern regex\n",
    "    pattern = r'([/])'\n",
    "    # Menambah spasi sebelum dan sesudah tanda baca '/'\n",
    "    spaced_text = re.sub(pattern, r' \\1 ', text)\n",
    "    # Menghilangkan spasi lebih dari satu, spasi setelah dan sebelum kata\n",
    "    spaced_text = re.sub(r'\\s+', ' ', spaced_text)\n",
    "    spaced_text = spaced_text.strip()\n",
    "    return spaced_text\n",
    "\n",
    "# Membuat kolom baru 'branch' dengan data yang diekstrak\n",
    "branch_template['branch'] = branch_template['text_messages'].apply(extract_branch)\n",
    "# Menghilangkan values digit\n",
    "branch_template['branch'] = branch_template['branch'].replace(to_replace=r' \\d+', value='', regex=True)\n",
    "# Apply function add_spaces_around_punctuation\n",
    "branch_template['branch'] = branch_template['branch'].apply(lambda x : add_spaces_around_punctuation(x) if pd.notna(x) else x)"
   ]
  },
  {
   "cell_type": "code",
   "execution_count": 872,
   "metadata": {},
   "outputs": [
    {
     "data": {
      "text/plain": [
       "branch\n",
       "online                284\n",
       "on campus jkt          90\n",
       "None                   37\n",
       "on campus bandung      35\n",
       "on campus bsd          25\n",
       "on campus batam        24\n",
       "on campus jogja        23\n",
       "on campus surabaya     18\n",
       "- online                1\n",
       "on campus               1\n",
       "Name: count, dtype: int64"
      ]
     },
     "execution_count": 872,
     "metadata": {},
     "output_type": "execute_result"
    }
   ],
   "source": [
    "branch_template['branch'] = np.where(branch_template['branch'] == '-', None, branch_template['branch'])\n",
    "branch_template['branch'].value_counts(dropna=False)"
   ]
  },
  {
   "cell_type": "code",
   "execution_count": 873,
   "metadata": {},
   "outputs": [],
   "source": [
    "branch_template = branch_template[['room_id', 'branch']]"
   ]
  },
  {
   "cell_type": "code",
   "execution_count": 874,
   "metadata": {},
   "outputs": [
    {
     "data": {
      "text/plain": [
       "12"
      ]
     },
     "execution_count": 874,
     "metadata": {},
     "output_type": "execute_result"
    }
   ],
   "source": [
    "# check duplikasi data\n",
    "branch_template.duplicated().sum()"
   ]
  },
  {
   "cell_type": "code",
   "execution_count": 875,
   "metadata": {},
   "outputs": [],
   "source": [
    "# drop duplikasi\n",
    "branch_template.drop_duplicates(subset='room_id', inplace=True)"
   ]
  },
  {
   "cell_type": "code",
   "execution_count": 876,
   "metadata": {},
   "outputs": [],
   "source": [
    "# Melakukan merge data dengan dataframe branch_template\n",
    "branch_prep = branch_prep.merge(right = branch_template, left_on='room_id', right_on='room_id', how='left')\n",
    "\n",
    "branch_no = branch_prep.copy()\n",
    "branch_no = branch_no[branch_no['branch'].isna()]"
   ]
  },
  {
   "cell_type": "markdown",
   "metadata": {},
   "source": [
    "#### ***Non-template***\n",
    "\n",
    "- Praktis dalam kesehariannya, banyak calon prospek yang menghubungi langsung melalui *Whatsapp* dan tidak menggunakan *template*.\n",
    "- Contoh: \n",
    "\n",
    "*\"Kak saya mau di BSD\"*"
   ]
  },
  {
   "cell_type": "code",
   "execution_count": 877,
   "metadata": {},
   "outputs": [],
   "source": [
    "keywords_list = ['jakarta', 'jkt', 'bsd', 'surabaya', 'sby', 'sub', 'batam', 'dti', 'bandung', 'bdg', 'yogya', 'jogja', \n",
    "                 'jogjakarta', 'online', 'off', 'offline', 'campus', 'kampus', 'digital talent incubator']\n",
    "\n",
    "# Function mencari dan menggabungkan kata kunci\n",
    "def find_keywords(text, keywords):\n",
    "    words = text.split()\n",
    "    match = []\n",
    "    for word in words:\n",
    "        if word in keywords:\n",
    "            match.append(word)\n",
    "    return ', '.join(match)"
   ]
  },
  {
   "cell_type": "code",
   "execution_count": 878,
   "metadata": {},
   "outputs": [],
   "source": [
    "# Apply function\n",
    "branch_no['search'] = branch_no['text_messages'].apply(lambda x: find_keywords(x, keywords_list))"
   ]
  },
  {
   "cell_type": "markdown",
   "metadata": {},
   "source": [
    "**Pesan dengan kata kunci**"
   ]
  },
  {
   "cell_type": "code",
   "execution_count": 879,
   "metadata": {},
   "outputs": [],
   "source": [
    "# filter percakapan yang memiliki kata kunci\n",
    "branch_key = branch_no[branch_no['search'].str.strip().str.len() > 0]"
   ]
  },
  {
   "cell_type": "code",
   "execution_count": 880,
   "metadata": {},
   "outputs": [],
   "source": [
    "# dictionary untuk menyeragamkan kata kunci\n",
    "dict_search = {\n",
    "    'jakarta' : 'jkt',\n",
    "    'surabaya' : 'sby',\n",
    "    'bandung' : 'bdg',\n",
    "    'digital talent incubator' : 'batam',\n",
    "    'dti' : 'batam',\n",
    "    'campus' : 'oncampus',\n",
    "    'kampus' : 'oncampus',\n",
    "    'off' : 'oncampus',\n",
    "    'yogya' : 'jogja',\n",
    "    'sub' : 'sby',\n",
    "    'offline' : 'oncampus',\n",
    "    'jogjakarta' : 'jogja'\n",
    "}\n",
    "\n",
    "# function untuk koreksi kata kunci\n",
    "def correct_search(text):\n",
    "    words = text.split(', ')\n",
    "\n",
    "    for j in range(len(words)):\n",
    "        if words[j] in dict_search:\n",
    "            words[j] = dict_search[words[j]]\n",
    "\n",
    "    expanded_text = ', '.join(words)\n",
    "    return expanded_text"
   ]
  },
  {
   "cell_type": "code",
   "execution_count": 881,
   "metadata": {},
   "outputs": [],
   "source": [
    "# Apply function\n",
    "branch_key['search'] = branch_key['search'].apply(correct_search)"
   ]
  },
  {
   "cell_type": "markdown",
   "metadata": {},
   "source": [
    "**Menghapus duplikasi kata kunci**\n",
    "- Ada kemungkinan beberapa kata kunci yang disebutkan berulang, oleh karena itu duplikasi akan dihapus."
   ]
  },
  {
   "cell_type": "code",
   "execution_count": 882,
   "metadata": {},
   "outputs": [],
   "source": [
    "# function menghapus duplikasi kata kunci\n",
    "def delete_duplicates(text):\n",
    "    words = text.split(', ')\n",
    "    seen = set()\n",
    "    unique_words = []\n",
    "\n",
    "    for word in words:\n",
    "        if word not in seen:\n",
    "            unique_words.append(word)\n",
    "            seen.add(word)\n",
    "\n",
    "    return ', '.join(unique_words)"
   ]
  },
  {
   "cell_type": "code",
   "execution_count": 883,
   "metadata": {},
   "outputs": [],
   "source": [
    "# Apply function\n",
    "branch_key['search'] = branch_key['search'].apply(delete_duplicates)"
   ]
  },
  {
   "cell_type": "markdown",
   "metadata": {},
   "source": [
    "**Menggabungkan kata 'on campus' dan cabang**\n",
    "\n",
    "- Banyak teks yang tidak beraturan seperti penyebutan nama cabang saja, sehingga nama cabang akan dilengkapi dengan 'on campus'."
   ]
  },
  {
   "cell_type": "code",
   "execution_count": 884,
   "metadata": {},
   "outputs": [],
   "source": [
    "def correct_oncampus(text):\n",
    "    words = text.split()\n",
    "    list_branch = ['jkt', 'bdg', 'sby', 'batam', 'bsd', 'jogja']\n",
    "    list_oncampus = ['on campus bsd', 'on campus jkt', 'on campus sby', 'on campus jogja', 'on campus batam', 'on campus bdg', 'online']\n",
    "    corrected_words = []\n",
    "    prep_corrected_words = []\n",
    "    final_corrected_words = []\n",
    "    \n",
    "    # Menyeragamkan kata kunci 'on campus' dan 'online'\n",
    "    for word in words:\n",
    "        if word == 'oncampus,':\n",
    "            corrected_words.append('on campus,')\n",
    "        elif word == 'oncampus':\n",
    "            corrected_words.append('on campus')\n",
    "        elif word == 'online,':\n",
    "            corrected_words.append('online,')\n",
    "        elif word in list_branch:\n",
    "            corrected_words.append('on campus ' + word)\n",
    "        elif word[:-1] in list_branch and word[-1] == ',':\n",
    "            corrected_words.append('on campus ' + word[:-1] + ',')\n",
    "        else:\n",
    "            corrected_words.append(word)\n",
    "    \n",
    "    # Menghapus duplikasi kata 'on campus'\n",
    "    i = 0\n",
    "    while i < len(corrected_words):\n",
    "        if corrected_words[i] == 'on campus':\n",
    "            if i + 1 < len(corrected_words) and corrected_words[i + 1].startswith('on campus'):\n",
    "                prep_corrected_words.append(corrected_words[i + 1])\n",
    "                i += 1\n",
    "            else:\n",
    "                prep_corrected_words.append(corrected_words[i])\n",
    "        else:\n",
    "            prep_corrected_words.append(corrected_words[i])\n",
    "        i += 1\n",
    "    \n",
    "    # koreksi list search, kecuali search yang hanya memiliki value 'online' dan 'on campus'\n",
    "    onoff_check = ' '.join(prep_corrected_words)\n",
    "    match = re.search(r'online, on campus', onoff_check)\n",
    "    match1 = re.search(r'on campus, online', onoff_check)\n",
    "    if match:\n",
    "        final_corrected_words.append(match.group())\n",
    "    elif match1:\n",
    "        final_corrected_words.append(match1.group())\n",
    "    elif len(prep_corrected_words) > 1:\n",
    "        for k in range(len(prep_corrected_words)):\n",
    "            for oncampus in list_oncampus:\n",
    "                if prep_corrected_words[k].endswith(','):\n",
    "                    prep_corrected_words[k] = prep_corrected_words[k][:-1]\n",
    "                    if prep_corrected_words[k] == oncampus:\n",
    "                        final_corrected_words.append(prep_corrected_words[k])\n",
    "                else:\n",
    "                    if prep_corrected_words[k] == oncampus:\n",
    "                        final_corrected_words.append(prep_corrected_words[k])\n",
    "    else:\n",
    "        final_corrected_words.append(' '.join(prep_corrected_words))\n",
    "    return ', '.join(final_corrected_words)"
   ]
  },
  {
   "cell_type": "code",
   "execution_count": 885,
   "metadata": {},
   "outputs": [],
   "source": [
    "# Apply function\n",
    "branch_key['search'] = branch_key['search'].apply(correct_oncampus)"
   ]
  },
  {
   "cell_type": "markdown",
   "metadata": {},
   "source": [
    "**Menggabungkan *dataframe* dengan *branch (by template)***"
   ]
  },
  {
   "cell_type": "code",
   "execution_count": 886,
   "metadata": {},
   "outputs": [],
   "source": [
    "branch_new = branch_prep.merge(right=branch_key[['room_id', 'search']], left_on='room_id', right_on='room_id', how='left')"
   ]
  },
  {
   "cell_type": "code",
   "execution_count": 887,
   "metadata": {},
   "outputs": [],
   "source": [
    "# replace value NaN pada kolom 'branch' dengan kolom 'search' (non-template)\n",
    "branch_new['branch'] = np.where(branch_new['branch'].isna(), branch_new['search'], branch_new['branch'])"
   ]
  },
  {
   "cell_type": "code",
   "execution_count": 888,
   "metadata": {},
   "outputs": [
    {
     "data": {
      "text/plain": [
       "branch\n",
       "online                            1861\n",
       "on campus jkt                      832\n",
       "on campus bandung                  275\n",
       "on campus                          270\n",
       "on campus bsd                      270\n",
       "on campus batam                    241\n",
       "on campus bdg                      147\n",
       "on campus sby                      144\n",
       "on campus jogja                    140\n",
       "on campus surabaya                  89\n",
       "online, on campus                   49\n",
       "on campus, online                   22\n",
       "on campus bsd, on campus jkt        17\n",
       "- online                             9\n",
       "on campus jogja, on campus sby       7\n",
       "on campus jkt, on campus sby         5\n",
       "Name: count, dtype: int64"
      ]
     },
     "execution_count": 888,
     "metadata": {},
     "output_type": "execute_result"
    }
   ],
   "source": [
    "branch_new['branch'].value_counts()"
   ]
  },
  {
   "cell_type": "code",
   "execution_count": 889,
   "metadata": {},
   "outputs": [],
   "source": [
    "# dictionary untuk menyeragamkan cabang\n",
    "dict_branch = {\n",
    "    'on campus jkt' : 'On Campus Jakarta',\n",
    "    'on campus jakarta' : 'On Campus Jakarta',\n",
    "    'kampus jkt' : 'On Campus Jakarta',\n",
    "    'on campus bdg' : 'On Campus Bandung',\n",
    "    'on campus bandung' : 'On Campus Bandung',\n",
    "    'on campus bsd ' : 'On Campus BSD',\n",
    "    'on campus bsd' : 'On Campus BSD',\n",
    "    'bsd' : 'On Campus BSD',\n",
    "    'on campus jogja' : 'On Campus Jogja',\n",
    "    'on campus batam' : 'On Campus Batam',\n",
    "    'on campus  batam' : 'On Campus Batam',\n",
    "    'on campus sby' : 'On Campus Surabaya',\n",
    "    'on campus surabaya' : 'On Campus Surabaya',\n",
    "    'onlinee' : 'Online',\n",
    "    'online' : 'Online',\n",
    "    ' / ' : ', ',\n",
    "    '/' : ',',\n",
    "    '- ' : '',\n",
    "    'metode ' : '',\n",
    "    ' atau' : ',',\n",
    "    '&' : ',',\n",
    "    'offline' : 'On Campus',\n",
    "    'on campus' : 'On Campus'\n",
    "}"
   ]
  },
  {
   "cell_type": "code",
   "execution_count": 890,
   "metadata": {},
   "outputs": [],
   "source": [
    "# Apply function replace_multiple untuk menyeragamkan cabang\n",
    "branch_new['branch'] = branch_new['branch'].apply(lambda x: replace_multiple(x, dict_branch) if pd.notna(x) else x)"
   ]
  },
  {
   "cell_type": "code",
   "execution_count": 891,
   "metadata": {},
   "outputs": [],
   "source": [
    "branch_new = branch_new[['room_id', 'branch']]"
   ]
  },
  {
   "cell_type": "code",
   "execution_count": 892,
   "metadata": {},
   "outputs": [
    {
     "data": {
      "text/plain": [
       "4950"
      ]
     },
     "execution_count": 892,
     "metadata": {},
     "output_type": "execute_result"
    }
   ],
   "source": [
    "# cek duplikasi data\n",
    "branch_new.duplicated().sum()"
   ]
  },
  {
   "cell_type": "code",
   "execution_count": 893,
   "metadata": {},
   "outputs": [],
   "source": [
    "# drop duplikasi data\n",
    "branch_new.drop_duplicates(subset=['room_id', 'branch'], keep='last', inplace=True)"
   ]
  },
  {
   "cell_type": "markdown",
   "metadata": {},
   "source": [
    "### ***Room Created***\n",
    "Pada kolom ini, setiap *chat room* akan diberi tanggal pertama kali percakapan dimulai."
   ]
  },
  {
   "cell_type": "code",
   "execution_count": 894,
   "metadata": {},
   "outputs": [
    {
     "data": {
      "text/html": [
       "<div>\n",
       "<style scoped>\n",
       "    .dataframe tbody tr th:only-of-type {\n",
       "        vertical-align: middle;\n",
       "    }\n",
       "\n",
       "    .dataframe tbody tr th {\n",
       "        vertical-align: top;\n",
       "    }\n",
       "\n",
       "    .dataframe thead th {\n",
       "        text-align: right;\n",
       "    }\n",
       "</style>\n",
       "<table border=\"1\" class=\"dataframe\">\n",
       "  <thead>\n",
       "    <tr style=\"text-align: right;\">\n",
       "      <th></th>\n",
       "      <th>room_id</th>\n",
       "      <th>room_created</th>\n",
       "    </tr>\n",
       "  </thead>\n",
       "  <tbody>\n",
       "    <tr>\n",
       "      <th>0</th>\n",
       "      <td>0003172b-353d-4597-baae-589c294d2058</td>\n",
       "      <td>2023-11-07 13:31:41+07:00</td>\n",
       "    </tr>\n",
       "    <tr>\n",
       "      <th>1</th>\n",
       "      <td>002a9e9b-fd59-4682-8148-8b8aa333647c</td>\n",
       "      <td>2023-11-07 13:31:48+07:00</td>\n",
       "    </tr>\n",
       "    <tr>\n",
       "      <th>2</th>\n",
       "      <td>004004ff-4da7-4c58-ab9b-e850e6022a85</td>\n",
       "      <td>2023-11-07 13:31:39+07:00</td>\n",
       "    </tr>\n",
       "    <tr>\n",
       "      <th>3</th>\n",
       "      <td>004aa5ae-102a-45c6-b7ea-ad4fc0ad86ea</td>\n",
       "      <td>2023-11-07 13:31:50+07:00</td>\n",
       "    </tr>\n",
       "    <tr>\n",
       "      <th>4</th>\n",
       "      <td>006d10a1-8d51-4ed0-bcef-672e01157fea</td>\n",
       "      <td>2023-11-07 13:32:39+07:00</td>\n",
       "    </tr>\n",
       "    <tr>\n",
       "      <th>...</th>\n",
       "      <td>...</td>\n",
       "      <td>...</td>\n",
       "    </tr>\n",
       "    <tr>\n",
       "      <th>2839</th>\n",
       "      <td>ffae6cb4-0ab9-4613-8a52-3cf27dc31e76</td>\n",
       "      <td>2023-11-07 13:31:51+07:00</td>\n",
       "    </tr>\n",
       "    <tr>\n",
       "      <th>2840</th>\n",
       "      <td>ffbc3c82-4c75-437e-aee2-f113e74b31e0</td>\n",
       "      <td>2023-11-18 05:47:32+07:00</td>\n",
       "    </tr>\n",
       "    <tr>\n",
       "      <th>2841</th>\n",
       "      <td>ffcc12ee-16ef-42e0-accd-076acab0a47a</td>\n",
       "      <td>2023-11-07 13:31:52+07:00</td>\n",
       "    </tr>\n",
       "    <tr>\n",
       "      <th>2842</th>\n",
       "      <td>ffdbff9e-714a-40bb-a575-0fb576260af6</td>\n",
       "      <td>2023-11-15 14:12:55+07:00</td>\n",
       "    </tr>\n",
       "    <tr>\n",
       "      <th>2843</th>\n",
       "      <td>ffe74dcf-e7ea-42c1-b6a8-66225e35e38b</td>\n",
       "      <td>2023-11-14 20:30:23+07:00</td>\n",
       "    </tr>\n",
       "  </tbody>\n",
       "</table>\n",
       "<p>2844 rows × 2 columns</p>\n",
       "</div>"
      ],
      "text/plain": [
       "                                   room_id              room_created\n",
       "0     0003172b-353d-4597-baae-589c294d2058 2023-11-07 13:31:41+07:00\n",
       "1     002a9e9b-fd59-4682-8148-8b8aa333647c 2023-11-07 13:31:48+07:00\n",
       "2     004004ff-4da7-4c58-ab9b-e850e6022a85 2023-11-07 13:31:39+07:00\n",
       "3     004aa5ae-102a-45c6-b7ea-ad4fc0ad86ea 2023-11-07 13:31:50+07:00\n",
       "4     006d10a1-8d51-4ed0-bcef-672e01157fea 2023-11-07 13:32:39+07:00\n",
       "...                                    ...                       ...\n",
       "2839  ffae6cb4-0ab9-4613-8a52-3cf27dc31e76 2023-11-07 13:31:51+07:00\n",
       "2840  ffbc3c82-4c75-437e-aee2-f113e74b31e0 2023-11-18 05:47:32+07:00\n",
       "2841  ffcc12ee-16ef-42e0-accd-076acab0a47a 2023-11-07 13:31:52+07:00\n",
       "2842  ffdbff9e-714a-40bb-a575-0fb576260af6 2023-11-15 14:12:55+07:00\n",
       "2843  ffe74dcf-e7ea-42c1-b6a8-66225e35e38b 2023-11-14 20:30:23+07:00\n",
       "\n",
       "[2844 rows x 2 columns]"
      ]
     },
     "execution_count": 894,
     "metadata": {},
     "output_type": "execute_result"
    }
   ],
   "source": [
    "room_created = df_chat.copy()\n",
    "room_created = room_created.groupby('room_id')[['created_at']].first().reset_index().rename(columns={'created_at':'room_created'})\n",
    "room_created"
   ]
  },
  {
   "cell_type": "markdown",
   "metadata": {},
   "source": [
    "### ***Room Status***"
   ]
  },
  {
   "cell_type": "markdown",
   "metadata": {},
   "source": [
    "Pada kolom ini, *chat room* akan ditandai berdasarkan percakapan yang pernah dibalas *agent*\n",
    "- Pernah ada *agent* yang membalas --> *Assign*\n",
    "- Tidak pernah/belum ada *agent* yang membalas --> *Unassign*"
   ]
  },
  {
   "cell_type": "code",
   "execution_count": 895,
   "metadata": {},
   "outputs": [],
   "source": [
    "assign = df_chat.copy()\n",
    "\n",
    "# filter percakapan yang melibatkan agent, value nya adalah Assign\n",
    "assign = assign[assign['sender_type']=='agent']\n",
    "assign['room_status'] = 'Assign'"
   ]
  },
  {
   "cell_type": "code",
   "execution_count": 896,
   "metadata": {},
   "outputs": [],
   "source": [
    "# Merge dengan df_chat\n",
    "room_status = df_chat.merge(assign, on='room_id', how='left')\n",
    "room_status['room_status'] = room_status['room_status'].fillna('Unassign')"
   ]
  },
  {
   "cell_type": "code",
   "execution_count": 897,
   "metadata": {},
   "outputs": [
    {
     "data": {
      "text/plain": [
       "room_status\n",
       "Unassign    2075\n",
       "Assign       769\n",
       "Name: count, dtype: int64"
      ]
     },
     "execution_count": 897,
     "metadata": {},
     "output_type": "execute_result"
    }
   ],
   "source": [
    "room_status = room_status[['room_id', 'room_status']]\n",
    "# drop duplikasi, hanya mengambil unique values\n",
    "room_status = room_status.drop_duplicates()\n",
    "room_status['room_status'].value_counts()"
   ]
  },
  {
   "cell_type": "markdown",
   "metadata": {},
   "source": [
    "### **Waktu Pembayaran**"
   ]
  },
  {
   "cell_type": "markdown",
   "metadata": {},
   "source": [
    "Proses *enquiry* sampai transaksi semuanya dilakukan melalui *Whatsapp*. Ketika calon prospek mengirimkan bukti transfer, *agent* akan menawarkan *merchandise* jaket untuk pelanggan. Pada kolom ini akan ditentukan:\n",
    "- Kapan waktu *agent* menawarkan jaket\n",
    "- *agent* membahas Tim Validasi dan tunggu konfirmasi"
   ]
  },
  {
   "cell_type": "code",
   "execution_count": 898,
   "metadata": {},
   "outputs": [],
   "source": [
    "payment_time = df_chat.copy()"
   ]
  },
  {
   "cell_type": "code",
   "execution_count": 899,
   "metadata": {},
   "outputs": [],
   "source": [
    "payment_time['text_messages'] = payment_time['text_messages'].fillna('')"
   ]
  },
  {
   "cell_type": "code",
   "execution_count": 900,
   "metadata": {},
   "outputs": [],
   "source": [
    "# Menampilkan waktu pembayaran, ciri-cirinya agent menawarkan jaket ke calon prospek\n",
    "payment_time['payment_time'] = payment_time.groupby('room_id')['created_at'].transform(lambda x: x[((payment_time.loc[x.index, 'text_messages'].str.contains('jaket|jacket',case=False)) & \n",
    "                                                                                                    ((payment_time.loc[x.index,'text_messages'].str.contains('size|ukuran|tim validasi|tunggu konfirmasi',case=False))) & \n",
    "                                                                                                    (payment_time.loc[x.index,'sender_type'] == 'agent'))].max())\n",
    "payment_time['payment_time'] = payment_time['payment_time'].astype('datetime64[ns, Asia/Jakarta]')"
   ]
  },
  {
   "cell_type": "code",
   "execution_count": 901,
   "metadata": {},
   "outputs": [],
   "source": [
    "payment_time = payment_time[payment_time['payment_time'].notna()][['room_id', 'payment_time']]\n",
    "payment_time = payment_time.drop_duplicates()"
   ]
  },
  {
   "cell_type": "code",
   "execution_count": 902,
   "metadata": {},
   "outputs": [],
   "source": [
    "list_paid = payment_time['room_id'].tolist()"
   ]
  },
  {
   "cell_type": "markdown",
   "metadata": {},
   "source": [
    "### **Status Transaksi**"
   ]
  },
  {
   "cell_type": "markdown",
   "metadata": {},
   "source": [
    "- Calon prospek yang melakukan pendaftaran akan menyelesaikan transaksi. Kolom ini digunakan untuk menandai calon prospek yang sudah berhasil melakukan transaksi."
   ]
  },
  {
   "cell_type": "code",
   "execution_count": 903,
   "metadata": {},
   "outputs": [],
   "source": [
    "deal_status = df_chat.copy()\n",
    "deal_status = deal_status[['room_id']].drop_duplicates()"
   ]
  },
  {
   "cell_type": "code",
   "execution_count": 904,
   "metadata": {},
   "outputs": [],
   "source": [
    "# Default ubah jadi none\n",
    "deal_status['deal_status'] = None\n",
    "\n",
    "# pisahkan data yang sudah menggunakan link invoice\n",
    "# deal_status = deal_status[(deal_status['given_link_time'].notna())]\n",
    "deal_status['deal_status'] = np.where((deal_status['room_id'].isin(list_paid)), 'Deal', deal_status['deal_status']) # Deal\n",
    "\n",
    "# buat status yang tidak deal\n",
    "deal_status['deal_status'] = np.where(deal_status['deal_status'].isna(), 'Not Deal', deal_status['deal_status'])"
   ]
  },
  {
   "cell_type": "code",
   "execution_count": 905,
   "metadata": {},
   "outputs": [],
   "source": [
    "deal_status = deal_status[['room_id', 'deal_status']]\n",
    "deal_status = deal_status.drop_duplicates()"
   ]
  },
  {
   "cell_type": "code",
   "execution_count": 906,
   "metadata": {},
   "outputs": [
    {
     "data": {
      "text/plain": [
       "2844"
      ]
     },
     "execution_count": 906,
     "metadata": {},
     "output_type": "execute_result"
    }
   ],
   "source": [
    "len(deal_status)"
   ]
  },
  {
   "cell_type": "code",
   "execution_count": 907,
   "metadata": {},
   "outputs": [
    {
     "data": {
      "text/plain": [
       "deal_status\n",
       "Not Deal    2809\n",
       "Deal          35\n",
       "Name: count, dtype: int64"
      ]
     },
     "execution_count": 907,
     "metadata": {},
     "output_type": "execute_result"
    }
   ],
   "source": [
    "deal_status['deal_status'].value_counts()"
   ]
  },
  {
   "cell_type": "markdown",
   "metadata": {},
   "source": [
    "### **Pengirim Pesan Terakhir**"
   ]
  },
  {
   "cell_type": "markdown",
   "metadata": {},
   "source": [
    "Percakapan antara calon prospek dengan agent tentu harapannya Identifikasi pengirim pesan terakhir dalam suatu *chat room*."
   ]
  },
  {
   "cell_type": "code",
   "execution_count": 908,
   "metadata": {},
   "outputs": [
    {
     "data": {
      "text/plain": [
       "'(Terkait pendaftaran program kami di Purwadhika, apakah kamu masih tertarik untuk melanjutkannya?)|(Halo, untuk mengaktifkan percakapan ini kembali, mohon balas pesan ini ya)|(boleh di bantu utk resend chat nya kembali kak)|(Halo 👋🏼 saya Icha tim Admission Purwadhika\\n\\nTerima kasih ya sudah menghubungi Purwadhika Digital Technology School.)'"
      ]
     },
     "execution_count": 908,
     "metadata": {},
     "output_type": "execute_result"
    }
   ],
   "source": [
    "# Daftar kata dan frasa yang ingin difilter\n",
    "hsm_1 = 'Terkait pendaftaran program kami di Purwadhika, apakah kamu masih tertarik untuk melanjutkannya?' \n",
    "hsm_2 = 'Halo, untuk mengaktifkan percakapan ini kembali, mohon balas pesan ini ya'\n",
    "hsm_3 = 'boleh di bantu utk resend chat nya kembali kak'\n",
    "hsm_4 = 'Halo 👋🏼 saya Icha tim Admission Purwadhika\\n\\nTerima kasih ya sudah menghubungi Purwadhika Digital Technology School.'\n",
    "\n",
    "hsm = [hsm_1, hsm_2, hsm_3, hsm_4]\n",
    "# Gabungkan kata-kata dan frasa dalam list menjadi satu string dengan pemisah '|'\n",
    "\n",
    "hsm_pattern = '|'.join([f'({word})' for word in hsm])\n",
    "\n",
    "hsm_pattern"
   ]
  },
  {
   "cell_type": "markdown",
   "metadata": {},
   "source": [
    "**Membuat kolom *last sender***"
   ]
  },
  {
   "cell_type": "code",
   "execution_count": 909,
   "metadata": {},
   "outputs": [
    {
     "name": "stderr",
     "output_type": "stream",
     "text": [
      "C:\\Users\\hp\\AppData\\Local\\Temp\\ipykernel_9032\\448690319.py:3: UserWarning: This pattern is interpreted as a regular expression, and has match groups. To actually get the groups, use str.extract.\n",
      "  last_chat = last_chat[(last_chat['sender_type']=='customer') | (last_chat['sender_type']=='agent') | ((last_chat['sender_type']=='system') & (last_chat['text_messages'].str.contains(hsm_pattern, case=False)))]\n"
     ]
    },
    {
     "data": {
      "text/plain": [
       "last_sender\n",
       "agent       10293\n",
       "customer     4751\n",
       "system         63\n",
       "Name: count, dtype: int64"
      ]
     },
     "execution_count": 909,
     "metadata": {},
     "output_type": "execute_result"
    }
   ],
   "source": [
    "last_chat = df_chat.copy()\n",
    "last_chat['text_messages'] = last_chat['text_messages'].fillna('')\n",
    "last_chat = last_chat[(last_chat['sender_type']=='customer') | (last_chat['sender_type']=='agent') | ((last_chat['sender_type']=='system') & (last_chat['text_messages'].str.contains(hsm_pattern, case=False)))]\n",
    "\n",
    "last_chat = last_chat.sort_values(by=['room_id', 'created_at'])\n",
    "last_chat['last_sender'] = last_chat.groupby('room_id')['sender_type'].transform('last')\n",
    "last_chat['last_messages_time'] = last_chat.groupby('room_id')['created_at'].transform('last')\n",
    "last_chat['last_sender'].value_counts()"
   ]
  },
  {
   "cell_type": "code",
   "execution_count": 910,
   "metadata": {},
   "outputs": [],
   "source": [
    "last_chat = last_chat.sort_values('created_at', ascending=True)\n",
    "last_chat = last_chat[['room_id', 'text_messages', 'last_sender', 'last_messages_time']]\n",
    "last_chat = last_chat.rename(columns={'text_messages': 'last_messages'})\n",
    "last_chat = last_chat.drop_duplicates(subset='room_id', keep='last')"
   ]
  },
  {
   "cell_type": "code",
   "execution_count": 911,
   "metadata": {},
   "outputs": [
    {
     "data": {
      "text/plain": [
       "last_sender\n",
       "agent       606\n",
       "customer    326\n",
       "system       19\n",
       "Name: count, dtype: int64"
      ]
     },
     "execution_count": 911,
     "metadata": {},
     "output_type": "execute_result"
    }
   ],
   "source": [
    "last_chat['last_sender'].value_counts()"
   ]
  },
  {
   "cell_type": "markdown",
   "metadata": {},
   "source": [
    "### ***Lost Customer***\n",
    "\n",
    "Kondisi *lost customer* antara lain:\n",
    "- ⁠Percakapan sudah di *assign* ke *agent*\n",
    "- Status transaksi belum *deal*\n",
    "- Harus menyatakan produk atau cabang yang diminati\n",
    "- Pengirim pesan terakhir yaitu *system/agent*\n",
    "- ⁠⁠Pesan terakhir sudah lewat 2 hari dari pesan terakhir *system/agent*"
   ]
  },
  {
   "cell_type": "code",
   "execution_count": 912,
   "metadata": {},
   "outputs": [],
   "source": [
    "lost_customer = df_chat.copy()\n",
    "max_time = lost_customer['created_at'].max() # --> max time dataframe (normally means today)\n",
    "\n",
    "# Mendefinisikan room yang deals\n",
    "deals = deal_status[deal_status['deal_status']=='Deal']\n",
    "\n",
    "# Mendefinisikan last sender dan durasi 2 hari\n",
    "last_time = last_chat.copy()\n",
    "last_time['duration'] = max_time - last_time[\"last_messages_time\"]\n",
    "last_time = last_time[((last_time['last_sender']=='agent')|(last_time['last_sender']=='system'))&(last_time['duration']>'1 days')] # --> Mencari semua last sender yang agent/system dan lebih dari 1 hari\n",
    "\n",
    "lost_customer = lost_customer[lost_customer['room_id'].isin(assign['room_id'].to_list())] # --> Semua room yang sudah assign\n",
    "lost_customer = lost_customer[~(lost_customer['room_id'].isin(deals['room_id'].to_list()))] # --> Selain room yang deals\n",
    "lost_customer = lost_customer[lost_customer['room_id'].isin(branch_new['room_id'].to_list())] # --> Semua room yang mempunyai branch\n",
    "lost_customer = lost_customer[lost_customer['room_id'].isin(final_products['room_id'].to_list())] # --> Semua room yang mempunyai products\n",
    "lost_customer = lost_customer[lost_customer['room_id'].isin(last_time['room_id'].to_list())] # --> Semua room yang sendernya system/agent dan durasi setelah last chat lebih dari 1 hari"
   ]
  },
  {
   "cell_type": "code",
   "execution_count": 913,
   "metadata": {},
   "outputs": [
    {
     "name": "stderr",
     "output_type": "stream",
     "text": [
      "C:\\Users\\hp\\AppData\\Local\\Temp\\ipykernel_9032\\3099818134.py:3: UserWarning: This pattern is interpreted as a regular expression, and has match groups. To actually get the groups, use str.extract.\n",
      "  lost_customer = lost_customer[(lost_customer['sender_type']==\"customer\") | (lost_customer['sender_type']==\"agent\") | ((lost_customer['sender_type']==\"system\") & (lost_customer['text_messages'].str.contains(hsm_pattern, case=False)))]\n"
     ]
    },
    {
     "data": {
      "text/plain": [
       "377"
      ]
     },
     "execution_count": 913,
     "metadata": {},
     "output_type": "execute_result"
    }
   ],
   "source": [
    "lost_customer[\"lost_customer\"] = \"Customer Loss\"\n",
    "lost_customer[\"text_messages\"] = lost_customer[\"text_messages\"].fillna(\"\")\n",
    "lost_customer = lost_customer[(lost_customer['sender_type']==\"customer\") | (lost_customer['sender_type']==\"agent\") | ((lost_customer['sender_type']==\"system\") & (lost_customer['text_messages'].str.contains(hsm_pattern, case=False)))]\n",
    "lost_customer = lost_customer[['room_id', \"lost_customer\", \"created_at\"]]\n",
    "lost_customer = lost_customer.drop_duplicates(subset='room_id', keep=\"last\")\n",
    "lost_customer['created_at'] = lost_customer['created_at'] + pd.Timedelta(days=1)\n",
    "lost_customer = lost_customer.rename(columns={'created_at': 'loss_time'})\n",
    "lost_customer['room_id'].nunique()"
   ]
  },
  {
   "cell_type": "code",
   "execution_count": 914,
   "metadata": {},
   "outputs": [
    {
     "data": {
      "text/html": [
       "<div>\n",
       "<style scoped>\n",
       "    .dataframe tbody tr th:only-of-type {\n",
       "        vertical-align: middle;\n",
       "    }\n",
       "\n",
       "    .dataframe tbody tr th {\n",
       "        vertical-align: top;\n",
       "    }\n",
       "\n",
       "    .dataframe thead th {\n",
       "        text-align: right;\n",
       "    }\n",
       "</style>\n",
       "<table border=\"1\" class=\"dataframe\">\n",
       "  <thead>\n",
       "    <tr style=\"text-align: right;\">\n",
       "      <th></th>\n",
       "      <th>room_id</th>\n",
       "      <th>lost_customer</th>\n",
       "      <th>loss_time</th>\n",
       "    </tr>\n",
       "  </thead>\n",
       "  <tbody>\n",
       "    <tr>\n",
       "      <th>19055</th>\n",
       "      <td>0397723d-32f1-480f-ac50-99e224e0c5ce</td>\n",
       "      <td>Customer Loss</td>\n",
       "      <td>2023-11-18 17:00:48.066526+07:00</td>\n",
       "    </tr>\n",
       "    <tr>\n",
       "      <th>19057</th>\n",
       "      <td>d0ff5fed-e1b9-414b-a4d1-400d9b25e8cb</td>\n",
       "      <td>Customer Loss</td>\n",
       "      <td>2023-11-18 17:02:11.787485+07:00</td>\n",
       "    </tr>\n",
       "    <tr>\n",
       "      <th>19088</th>\n",
       "      <td>cc3d1e39-42fa-48a1-811d-dfc06e2828af</td>\n",
       "      <td>Customer Loss</td>\n",
       "      <td>2023-11-18 17:21:20.403890+07:00</td>\n",
       "    </tr>\n",
       "    <tr>\n",
       "      <th>19103</th>\n",
       "      <td>c1f421bc-08a4-4066-87df-454bb29dcab2</td>\n",
       "      <td>Customer Loss</td>\n",
       "      <td>2023-11-18 17:28:17.936268+07:00</td>\n",
       "    </tr>\n",
       "    <tr>\n",
       "      <th>19121</th>\n",
       "      <td>5bd866d2-f4c6-4c4e-bddc-0e976322147d</td>\n",
       "      <td>Customer Loss</td>\n",
       "      <td>2023-11-18 17:34:05.448880+07:00</td>\n",
       "    </tr>\n",
       "  </tbody>\n",
       "</table>\n",
       "</div>"
      ],
      "text/plain": [
       "                                    room_id  lost_customer                        loss_time\n",
       "19055  0397723d-32f1-480f-ac50-99e224e0c5ce  Customer Loss 2023-11-18 17:00:48.066526+07:00\n",
       "19057  d0ff5fed-e1b9-414b-a4d1-400d9b25e8cb  Customer Loss 2023-11-18 17:02:11.787485+07:00\n",
       "19088  cc3d1e39-42fa-48a1-811d-dfc06e2828af  Customer Loss 2023-11-18 17:21:20.403890+07:00\n",
       "19103  c1f421bc-08a4-4066-87df-454bb29dcab2  Customer Loss 2023-11-18 17:28:17.936268+07:00\n",
       "19121  5bd866d2-f4c6-4c4e-bddc-0e976322147d  Customer Loss 2023-11-18 17:34:05.448880+07:00"
      ]
     },
     "execution_count": 914,
     "metadata": {},
     "output_type": "execute_result"
    }
   ],
   "source": [
    "lost_customer.tail()"
   ]
  },
  {
   "cell_type": "markdown",
   "metadata": {},
   "source": [
    "### **Klasifikasi calon prospek**"
   ]
  },
  {
   "cell_type": "markdown",
   "metadata": {},
   "source": [
    "### **Prospek Hangat**\n",
    "\n",
    "Definisi: percakapan yang memiliki kata-kata atau makna seperti berikut:\n",
    "\n",
    "- Pengisian identitas diri\n",
    "- Agent melakukan *follow up*\n",
    "- Customer diskusi dulu dengan orang tua\n",
    "- apakah berminat utk di bantu proses pendaftarannya?\n",
    "- Customer pikir dulu"
   ]
  },
  {
   "cell_type": "code",
   "execution_count": 915,
   "metadata": {},
   "outputs": [],
   "source": [
    "# copy raw dataframe\n",
    "lead = df_chat.copy()"
   ]
  },
  {
   "cell_type": "code",
   "execution_count": 916,
   "metadata": {},
   "outputs": [],
   "source": [
    "# drop text message NaN & lower text\n",
    "lead.dropna(subset=['text_messages'], inplace=True)\n",
    "lead['text_messages'] = lead['text_messages'].apply(lambda x : x.lower())"
   ]
  },
  {
   "cell_type": "code",
   "execution_count": 917,
   "metadata": {},
   "outputs": [],
   "source": [
    "customer_status = lead.copy()"
   ]
  },
  {
   "cell_type": "markdown",
   "metadata": {},
   "source": [
    "#### **Mencari kata kunci berdasarkan warm lead Admission**"
   ]
  },
  {
   "cell_type": "code",
   "execution_count": 918,
   "metadata": {},
   "outputs": [],
   "source": [
    "# kata kunci warm lead\n",
    "list_warm = ['no ktp:', 'follow up', 'followup', 'diskusi', 'discus', 'pikir', 'fikir', 'daftar']\n",
    "\n",
    "# list kata kunci yang perlu ditake out dari warm lead = 'diskusi'\n",
    "list_refine_diskusi = ['partnership', 'group', 'grup', 'belum', 'belom', 'tugas', 'bukan', 'mentor', 'guru', 'trainer', 'program', 'refund', 'kelompok', 'mohon', 'sharing',\n",
    "                       'kerjasama', 'kerja sama', 'agency', 'form', 'bantu', 'lama', 'sesi', 'proposal', 'admission', 'operator', 'lanjut', 'pengajar', 'materi', 'to be', 'sempet',\n",
    "                       'brain', 'work', 'penyediaan', 'open', 'minus', 'coding', 'teman', 'temen', 'forum', 'pengen', 'fasilitas', 'kadang', 'kurang bisa', 'lebih fleksibel',\n",
    "                       'siapa', 'agar', 'praktek']\n",
    "\n",
    "# list kata kunci verifikasi dari message after warm lead = 'pikir'\n",
    "list_reply_pikir = ['promo', 'baik', 'oke', 'terima kasih', 'makasih', 'makasi', 'sama', 'thanks', 'trmksh', 'boleh', 'mohon maaf']\n",
    "\n",
    "# list kata kunci verifikasi dari message warm lead ='pikir'\n",
    "list_advanced_pikir = ['dulu', 'dlu', 'dl', 'nanti', 'lagi', 'lg', 'duluu']\n",
    "\n",
    "# list kata kunci yang perlu ditake out dari warm lead = 'pikir'\n",
    "list_refine_pikir = ['promosi', 'pikiran', 'berpikir', 'fikirim', 'cerdas', 'hiring', 'janji', 'sayang', 'mahal', 'les']\n",
    "\n",
    "# list kata kunci verifikasi dari message after warm lead = 'daftar'\n",
    "list_advanced_daftar = ['bantu', 'siap', 'mau', 'tolong', 'buka', 'oke', 'lanjut', 'kapan', 'gimana', 'gmn']\n",
    "\n",
    "# list kata kunci yang perlu ditake out dari warm lead = 'daftar'\n",
    "list_refine_daftar = ['membantu', 'biaya', 'motor', 'misal', 'mentor', 'kecewa', 'bukan']"
   ]
  },
  {
   "cell_type": "code",
   "execution_count": 919,
   "metadata": {},
   "outputs": [
    {
     "name": "stderr",
     "output_type": "stream",
     "text": [
      "C:\\Users\\hp\\AppData\\Local\\Temp\\ipykernel_9032\\72902905.py:6: DeprecationWarning: DataFrameGroupBy.apply operated on the grouping columns. This behavior is deprecated, and in a future version of pandas the grouping columns will be excluded from the operation. Either pass `include_groups=False` to exclude the groupings or explicitly select the grouping columns after groupby to silence this warning.\n",
      "  customer_status = customer_status.groupby('room_id').apply(shift_group_after).reset_index(drop=True).sort_values('created_at')\n"
     ]
    },
    {
     "data": {
      "text/html": [
       "<div>\n",
       "<style scoped>\n",
       "    .dataframe tbody tr th:only-of-type {\n",
       "        vertical-align: middle;\n",
       "    }\n",
       "\n",
       "    .dataframe tbody tr th {\n",
       "        vertical-align: top;\n",
       "    }\n",
       "\n",
       "    .dataframe thead th {\n",
       "        text-align: right;\n",
       "    }\n",
       "</style>\n",
       "<table border=\"1\" class=\"dataframe\">\n",
       "  <thead>\n",
       "    <tr style=\"text-align: right;\">\n",
       "      <th></th>\n",
       "      <th>room_id</th>\n",
       "      <th>target_channel</th>\n",
       "      <th>customer_id</th>\n",
       "      <th>customer_name</th>\n",
       "      <th>agent_name</th>\n",
       "      <th>sender_type</th>\n",
       "      <th>outbound_type</th>\n",
       "      <th>text_messages</th>\n",
       "      <th>created_at</th>\n",
       "      <th>message_after</th>\n",
       "    </tr>\n",
       "  </thead>\n",
       "  <tbody>\n",
       "    <tr>\n",
       "      <th>19380</th>\n",
       "      <td>fb35e85c-12e7-4cee-b4ea-7c1fd06969a2</td>\n",
       "      <td>Whatsapp</td>\n",
       "      <td>NaN</td>\n",
       "      <td>NaN</td>\n",
       "      <td>NaN</td>\n",
       "      <td>system</td>\n",
       "      <td>system_info</td>\n",
       "      <td>hi👋 \\ningin berdiskusi dengan tim admission terkait program kami? mohon menunggu sebentar, tim admission kami akan segera pada jam operasional kami 😁 \\nselagi menunggu, silahkan mengisi form di bawah ini, untuk memudahkan kami dalam memberikan detail informasi yang kamu butuhkan. \\n1. nama : \\n2. email : \\n3. kamu tertarik program purwadhika yang mana? : \\n4. informasi yang ingin diketahui : \\n5. tahu purwadhika pertama kali darimana? :</td>\n",
       "      <td>2023-11-06 07:05:54.755785+07:00</td>\n",
       "      <td>terima kasih telah menghubungi kami. dalam upaya untuk terus meningkatkan kualitas layanan kami, mohon kesediaannya untuk memberikan penilaiaan singkat tentang pengalaman anda terhadap layanan kami. penilaian anda akan sangat berguna untuk meningkatkan pelayanan kami ke depannya.\\nsilakan klik link di bawah ini untuk mengisi survey kepuasan pelanggan kami: https://chat.qontak.com/survey/pfzs5lhu</td>\n",
       "    </tr>\n",
       "    <tr>\n",
       "      <th>19381</th>\n",
       "      <td>fb35e85c-12e7-4cee-b4ea-7c1fd06969a2</td>\n",
       "      <td>Whatsapp</td>\n",
       "      <td>NaN</td>\n",
       "      <td>NaN</td>\n",
       "      <td>NaN</td>\n",
       "      <td>system</td>\n",
       "      <td>system_info</td>\n",
       "      <td>terima kasih telah menghubungi kami. dalam upaya untuk terus meningkatkan kualitas layanan kami, mohon kesediaannya untuk memberikan penilaiaan singkat tentang pengalaman anda terhadap layanan kami. penilaian anda akan sangat berguna untuk meningkatkan pelayanan kami ke depannya.\\nsilakan klik link di bawah ini untuk mengisi survey kepuasan pelanggan kami: https://chat.qontak.com/survey/pfzs5lhu</td>\n",
       "      <td>2023-11-06 07:05:55.144000+07:00</td>\n",
       "      <td>conversation has been resolved by &lt;b&gt;bot&lt;/b&gt;</td>\n",
       "    </tr>\n",
       "    <tr>\n",
       "      <th>19382</th>\n",
       "      <td>fb35e85c-12e7-4cee-b4ea-7c1fd06969a2</td>\n",
       "      <td>Whatsapp</td>\n",
       "      <td>NaN</td>\n",
       "      <td>NaN</td>\n",
       "      <td>NaN</td>\n",
       "      <td>system</td>\n",
       "      <td>system_info</td>\n",
       "      <td>conversation has been resolved by &lt;b&gt;bot&lt;/b&gt;</td>\n",
       "      <td>2023-11-06 07:05:55.259056+07:00</td>\n",
       "      <td>survey score has been sent to &lt;b&gt;anisya desy&lt;/b&gt;</td>\n",
       "    </tr>\n",
       "    <tr>\n",
       "      <th>19383</th>\n",
       "      <td>fb35e85c-12e7-4cee-b4ea-7c1fd06969a2</td>\n",
       "      <td>Whatsapp</td>\n",
       "      <td>NaN</td>\n",
       "      <td>NaN</td>\n",
       "      <td>NaN</td>\n",
       "      <td>system</td>\n",
       "      <td>system_info</td>\n",
       "      <td>survey score has been sent to &lt;b&gt;anisya desy&lt;/b&gt;</td>\n",
       "      <td>2023-11-06 07:05:55.432142+07:00</td>\n",
       "      <td></td>\n",
       "    </tr>\n",
       "    <tr>\n",
       "      <th>2442</th>\n",
       "      <td>1fd4903b-51bd-4ed0-b0d7-4fa783077143</td>\n",
       "      <td>Whatsapp</td>\n",
       "      <td>NaN</td>\n",
       "      <td>NaN</td>\n",
       "      <td>NaN</td>\n",
       "      <td>system</td>\n",
       "      <td>system_info</td>\n",
       "      <td>hi👋 \\ningin berdiskusi dengan tim admission terkait program kami? mohon menunggu sebentar, tim admission kami akan segera pada jam operasional kami 😁 \\nselagi menunggu, silahkan mengisi form di bawah ini, untuk memudahkan kami dalam memberikan detail informasi yang kamu butuhkan. \\n1. nama : \\n2. email : \\n3. kamu tertarik program purwadhika yang mana? : \\n4. informasi yang ingin diketahui : \\n5. tahu purwadhika pertama kali darimana? :</td>\n",
       "      <td>2023-11-06 07:54:46.251957+07:00</td>\n",
       "      <td>terima kasih telah menghubungi kami. dalam upaya untuk terus meningkatkan kualitas layanan kami, mohon kesediaannya untuk memberikan penilaiaan singkat tentang pengalaman anda terhadap layanan kami. penilaian anda akan sangat berguna untuk meningkatkan pelayanan kami ke depannya.\\nsilakan klik link di bawah ini untuk mengisi survey kepuasan pelanggan kami: https://chat.qontak.com/survey/faxrmhqr</td>\n",
       "    </tr>\n",
       "  </tbody>\n",
       "</table>\n",
       "</div>"
      ],
      "text/plain": [
       "                                    room_id target_channel customer_id customer_name agent_name sender_type outbound_type                                                                                                                                                                                                                                                                                                                                                                                                                                              text_messages                       created_at                                                                                                                                                                                                                                                                                                                                                                                                   message_after\n",
       "19380  fb35e85c-12e7-4cee-b4ea-7c1fd06969a2       Whatsapp         NaN           NaN        NaN      system   system_info  hi👋 \\ningin berdiskusi dengan tim admission terkait program kami? mohon menunggu sebentar, tim admission kami akan segera pada jam operasional kami 😁 \\nselagi menunggu, silahkan mengisi form di bawah ini, untuk memudahkan kami dalam memberikan detail informasi yang kamu butuhkan. \\n1. nama : \\n2. email : \\n3. kamu tertarik program purwadhika yang mana? : \\n4. informasi yang ingin diketahui : \\n5. tahu purwadhika pertama kali darimana? :  2023-11-06 07:05:54.755785+07:00  terima kasih telah menghubungi kami. dalam upaya untuk terus meningkatkan kualitas layanan kami, mohon kesediaannya untuk memberikan penilaiaan singkat tentang pengalaman anda terhadap layanan kami. penilaian anda akan sangat berguna untuk meningkatkan pelayanan kami ke depannya.\\nsilakan klik link di bawah ini untuk mengisi survey kepuasan pelanggan kami: https://chat.qontak.com/survey/pfzs5lhu\n",
       "19381  fb35e85c-12e7-4cee-b4ea-7c1fd06969a2       Whatsapp         NaN           NaN        NaN      system   system_info                                             terima kasih telah menghubungi kami. dalam upaya untuk terus meningkatkan kualitas layanan kami, mohon kesediaannya untuk memberikan penilaiaan singkat tentang pengalaman anda terhadap layanan kami. penilaian anda akan sangat berguna untuk meningkatkan pelayanan kami ke depannya.\\nsilakan klik link di bawah ini untuk mengisi survey kepuasan pelanggan kami: https://chat.qontak.com/survey/pfzs5lhu 2023-11-06 07:05:55.144000+07:00                                                                                                                                                                                                                                                                                                                                                                    conversation has been resolved by <b>bot</b>\n",
       "19382  fb35e85c-12e7-4cee-b4ea-7c1fd06969a2       Whatsapp         NaN           NaN        NaN      system   system_info                                                                                                                                                                                                                                                                                                                                                                                                               conversation has been resolved by <b>bot</b> 2023-11-06 07:05:55.259056+07:00                                                                                                                                                                                                                                                                                                                                                                survey score has been sent to <b>anisya desy</b>\n",
       "19383  fb35e85c-12e7-4cee-b4ea-7c1fd06969a2       Whatsapp         NaN           NaN        NaN      system   system_info                                                                                                                                                                                                                                                                                                                                                                                                           survey score has been sent to <b>anisya desy</b> 2023-11-06 07:05:55.432142+07:00                                                                                                                                                                                                                                                                                                                                                                                                                \n",
       "2442   1fd4903b-51bd-4ed0-b0d7-4fa783077143       Whatsapp         NaN           NaN        NaN      system   system_info  hi👋 \\ningin berdiskusi dengan tim admission terkait program kami? mohon menunggu sebentar, tim admission kami akan segera pada jam operasional kami 😁 \\nselagi menunggu, silahkan mengisi form di bawah ini, untuk memudahkan kami dalam memberikan detail informasi yang kamu butuhkan. \\n1. nama : \\n2. email : \\n3. kamu tertarik program purwadhika yang mana? : \\n4. informasi yang ingin diketahui : \\n5. tahu purwadhika pertama kali darimana? :  2023-11-06 07:54:46.251957+07:00  terima kasih telah menghubungi kami. dalam upaya untuk terus meningkatkan kualitas layanan kami, mohon kesediaannya untuk memberikan penilaiaan singkat tentang pengalaman anda terhadap layanan kami. penilaian anda akan sangat berguna untuk meningkatkan pelayanan kami ke depannya.\\nsilakan klik link di bawah ini untuk mengisi survey kepuasan pelanggan kami: https://chat.qontak.com/survey/faxrmhqr"
      ]
     },
     "execution_count": 919,
     "metadata": {},
     "output_type": "execute_result"
    }
   ],
   "source": [
    "# function menambah kolom message setelah\n",
    "def shift_group_after(group):\n",
    "    group['message_after'] = group['text_messages'].shift(periods=-1)\n",
    "    return group\n",
    "\n",
    "customer_status = customer_status.groupby('room_id').apply(shift_group_after).reset_index(drop=True).sort_values('created_at')\n",
    "customer_status['message_after'].fillna('', inplace = True)\n",
    "\n",
    "customer_status.head()"
   ]
  },
  {
   "cell_type": "code",
   "execution_count": 920,
   "metadata": {},
   "outputs": [],
   "source": [
    "def is_warm(text, list_warm):\n",
    "    for word in list_warm:\n",
    "        if word in text:\n",
    "            if word == 'diskusi' or word == 'discus' or word == 'konsultasi':   # jika ada kata diskusi, dicek kembali kata dari pesannya\n",
    "                for noise in list_refine_diskusi:\n",
    "                    if noise in text:\n",
    "                        return 'no lead'                   # jika terdapat noise dalam pesan diskusi, ditandai 'no lead'\n",
    "                return 'warm'\n",
    "            elif word == 'pikir' or word == 'fikir':    # jika ada kata pikir, dicek kembali kata dari pesannya\n",
    "                for noise2 in list_refine_pikir:\n",
    "                    if noise2 in text:\n",
    "                        return 'no lead'                   # jika terdapat noise dalam pesan pikir, ditandai 'no lead'\n",
    "                for valid in list_advanced_pikir:\n",
    "                    if valid in text:\n",
    "                        return 'warm'                       # jika pesan pikir disertai dengan ['dulu', 'lagi', 'nanti'] maka pesan warm lead\n",
    "                for valid_reply in list_reply_pikir:\n",
    "                    for reply in customer_status['message_after']:\n",
    "                        if valid_reply in reply:                  # jika balasan berikutnya afirmasi dari agent, ditandai 'warm'\n",
    "                            if valid_reply == 'mohon maaf':\n",
    "                                return 'no lead'           \n",
    "                            return 'warm'\n",
    "                return 'no lead'                           # sementara pesan pikir lainnya ditandai no lead sampai list advance & refine ditambah\n",
    "            elif word == 'follow up' or word == 'followup':\n",
    "                for sender in customer_status['sender_type']:\n",
    "                    if sender == 'agent':\n",
    "                        return 'warm'                       # jika agent yang melakukan follow up, termasuk warm leads\n",
    "                    return 'no lead'\n",
    "            elif word == 'daftar':\n",
    "                for noise3 in list_refine_daftar:\n",
    "                    if noise3 in text:\n",
    "                        return 'no lead'                    # jika terdapat noise dalam pesan pikir, ditandai 'no lead'               \n",
    "                for valid_daftar in list_advanced_daftar:\n",
    "                    if valid_daftar in text:\n",
    "                        return 'warm'                       # jika ada kata 'bantu' dalam 'daftar', ditandai 'warm'\n",
    "                return 'no lead'\n",
    "            return 'warm'                           # selain kata 'diskusi' dan 'pikir', ditandai 'warm'                        \n",
    "    return 'no lead'                          # jika tidak ada kata tersebut, ditandai 'no lead'"
   ]
  },
  {
   "cell_type": "code",
   "execution_count": 921,
   "metadata": {},
   "outputs": [],
   "source": [
    "# hasil customer status disimpan dalam kolom lead\n",
    "customer_status['lead'] = customer_status[customer_status['sender_type'] != 'system']['text_messages'].apply(lambda x: is_warm(x, list_warm) if pd.notna(x) else x)"
   ]
  },
  {
   "cell_type": "markdown",
   "metadata": {},
   "source": [
    "### **Prospek Panas**\n",
    "\n",
    "Definisi: percakapan yang memiliki kata-kata atau mengandung makna:\n",
    "\n",
    "- kira kira kakak mau transaksi kapan?\n",
    "- link transaksi"
   ]
  },
  {
   "cell_type": "code",
   "execution_count": 922,
   "metadata": {},
   "outputs": [
    {
     "data": {
      "text/html": [
       "<div>\n",
       "<style scoped>\n",
       "    .dataframe tbody tr th:only-of-type {\n",
       "        vertical-align: middle;\n",
       "    }\n",
       "\n",
       "    .dataframe tbody tr th {\n",
       "        vertical-align: top;\n",
       "    }\n",
       "\n",
       "    .dataframe thead th {\n",
       "        text-align: right;\n",
       "    }\n",
       "</style>\n",
       "<table border=\"1\" class=\"dataframe\">\n",
       "  <thead>\n",
       "    <tr style=\"text-align: right;\">\n",
       "      <th></th>\n",
       "      <th>room_id</th>\n",
       "      <th>target_channel</th>\n",
       "      <th>customer_id</th>\n",
       "      <th>customer_name</th>\n",
       "      <th>agent_name</th>\n",
       "      <th>sender_type</th>\n",
       "      <th>outbound_type</th>\n",
       "      <th>text_messages</th>\n",
       "      <th>created_at</th>\n",
       "      <th>message_after</th>\n",
       "      <th>lead</th>\n",
       "      <th>transaksi_kapan</th>\n",
       "      <th>transaction_link</th>\n",
       "    </tr>\n",
       "  </thead>\n",
       "  <tbody>\n",
       "    <tr>\n",
       "      <th>19380</th>\n",
       "      <td>fb35e85c-12e7-4cee-b4ea-7c1fd06969a2</td>\n",
       "      <td>Whatsapp</td>\n",
       "      <td>NaN</td>\n",
       "      <td>NaN</td>\n",
       "      <td>NaN</td>\n",
       "      <td>system</td>\n",
       "      <td>system_info</td>\n",
       "      <td>hi👋 \\ningin berdiskusi dengan tim admission terkait program kami? mohon menunggu sebentar, tim admission kami akan segera pada jam operasional kami 😁 \\nselagi menunggu, silahkan mengisi form di bawah ini, untuk memudahkan kami dalam memberikan detail informasi yang kamu butuhkan. \\n1. nama : \\n2. email : \\n3. kamu tertarik program purwadhika yang mana? : \\n4. informasi yang ingin diketahui : \\n5. tahu purwadhika pertama kali darimana? :</td>\n",
       "      <td>2023-11-06 07:05:54.755785+07:00</td>\n",
       "      <td>terima kasih telah menghubungi kami. dalam upaya untuk terus meningkatkan kualitas layanan kami, mohon kesediaannya untuk memberikan penilaiaan singkat tentang pengalaman anda terhadap layanan kami. penilaian anda akan sangat berguna untuk meningkatkan pelayanan kami ke depannya.\\nsilakan klik link di bawah ini untuk mengisi survey kepuasan pelanggan kami: https://chat.qontak.com/survey/pfzs5lhu</td>\n",
       "      <td>NaN</td>\n",
       "      <td>None</td>\n",
       "      <td>None</td>\n",
       "    </tr>\n",
       "    <tr>\n",
       "      <th>19381</th>\n",
       "      <td>fb35e85c-12e7-4cee-b4ea-7c1fd06969a2</td>\n",
       "      <td>Whatsapp</td>\n",
       "      <td>NaN</td>\n",
       "      <td>NaN</td>\n",
       "      <td>NaN</td>\n",
       "      <td>system</td>\n",
       "      <td>system_info</td>\n",
       "      <td>terima kasih telah menghubungi kami. dalam upaya untuk terus meningkatkan kualitas layanan kami, mohon kesediaannya untuk memberikan penilaiaan singkat tentang pengalaman anda terhadap layanan kami. penilaian anda akan sangat berguna untuk meningkatkan pelayanan kami ke depannya.\\nsilakan klik link di bawah ini untuk mengisi survey kepuasan pelanggan kami: https://chat.qontak.com/survey/pfzs5lhu</td>\n",
       "      <td>2023-11-06 07:05:55.144000+07:00</td>\n",
       "      <td>conversation has been resolved by &lt;b&gt;bot&lt;/b&gt;</td>\n",
       "      <td>NaN</td>\n",
       "      <td>None</td>\n",
       "      <td>None</td>\n",
       "    </tr>\n",
       "    <tr>\n",
       "      <th>19382</th>\n",
       "      <td>fb35e85c-12e7-4cee-b4ea-7c1fd06969a2</td>\n",
       "      <td>Whatsapp</td>\n",
       "      <td>NaN</td>\n",
       "      <td>NaN</td>\n",
       "      <td>NaN</td>\n",
       "      <td>system</td>\n",
       "      <td>system_info</td>\n",
       "      <td>conversation has been resolved by &lt;b&gt;bot&lt;/b&gt;</td>\n",
       "      <td>2023-11-06 07:05:55.259056+07:00</td>\n",
       "      <td>survey score has been sent to &lt;b&gt;anisya desy&lt;/b&gt;</td>\n",
       "      <td>NaN</td>\n",
       "      <td>None</td>\n",
       "      <td>None</td>\n",
       "    </tr>\n",
       "    <tr>\n",
       "      <th>19383</th>\n",
       "      <td>fb35e85c-12e7-4cee-b4ea-7c1fd06969a2</td>\n",
       "      <td>Whatsapp</td>\n",
       "      <td>NaN</td>\n",
       "      <td>NaN</td>\n",
       "      <td>NaN</td>\n",
       "      <td>system</td>\n",
       "      <td>system_info</td>\n",
       "      <td>survey score has been sent to &lt;b&gt;anisya desy&lt;/b&gt;</td>\n",
       "      <td>2023-11-06 07:05:55.432142+07:00</td>\n",
       "      <td></td>\n",
       "      <td>NaN</td>\n",
       "      <td>None</td>\n",
       "      <td>None</td>\n",
       "    </tr>\n",
       "    <tr>\n",
       "      <th>2442</th>\n",
       "      <td>1fd4903b-51bd-4ed0-b0d7-4fa783077143</td>\n",
       "      <td>Whatsapp</td>\n",
       "      <td>NaN</td>\n",
       "      <td>NaN</td>\n",
       "      <td>NaN</td>\n",
       "      <td>system</td>\n",
       "      <td>system_info</td>\n",
       "      <td>hi👋 \\ningin berdiskusi dengan tim admission terkait program kami? mohon menunggu sebentar, tim admission kami akan segera pada jam operasional kami 😁 \\nselagi menunggu, silahkan mengisi form di bawah ini, untuk memudahkan kami dalam memberikan detail informasi yang kamu butuhkan. \\n1. nama : \\n2. email : \\n3. kamu tertarik program purwadhika yang mana? : \\n4. informasi yang ingin diketahui : \\n5. tahu purwadhika pertama kali darimana? :</td>\n",
       "      <td>2023-11-06 07:54:46.251957+07:00</td>\n",
       "      <td>terima kasih telah menghubungi kami. dalam upaya untuk terus meningkatkan kualitas layanan kami, mohon kesediaannya untuk memberikan penilaiaan singkat tentang pengalaman anda terhadap layanan kami. penilaian anda akan sangat berguna untuk meningkatkan pelayanan kami ke depannya.\\nsilakan klik link di bawah ini untuk mengisi survey kepuasan pelanggan kami: https://chat.qontak.com/survey/faxrmhqr</td>\n",
       "      <td>NaN</td>\n",
       "      <td>None</td>\n",
       "      <td>None</td>\n",
       "    </tr>\n",
       "  </tbody>\n",
       "</table>\n",
       "</div>"
      ],
      "text/plain": [
       "                                    room_id target_channel customer_id customer_name agent_name sender_type outbound_type                                                                                                                                                                                                                                                                                                                                                                                                                                              text_messages                       created_at                                                                                                                                                                                                                                                                                                                                                                                                   message_after  \\\n",
       "19380  fb35e85c-12e7-4cee-b4ea-7c1fd06969a2       Whatsapp         NaN           NaN        NaN      system   system_info  hi👋 \\ningin berdiskusi dengan tim admission terkait program kami? mohon menunggu sebentar, tim admission kami akan segera pada jam operasional kami 😁 \\nselagi menunggu, silahkan mengisi form di bawah ini, untuk memudahkan kami dalam memberikan detail informasi yang kamu butuhkan. \\n1. nama : \\n2. email : \\n3. kamu tertarik program purwadhika yang mana? : \\n4. informasi yang ingin diketahui : \\n5. tahu purwadhika pertama kali darimana? :  2023-11-06 07:05:54.755785+07:00  terima kasih telah menghubungi kami. dalam upaya untuk terus meningkatkan kualitas layanan kami, mohon kesediaannya untuk memberikan penilaiaan singkat tentang pengalaman anda terhadap layanan kami. penilaian anda akan sangat berguna untuk meningkatkan pelayanan kami ke depannya.\\nsilakan klik link di bawah ini untuk mengisi survey kepuasan pelanggan kami: https://chat.qontak.com/survey/pfzs5lhu   \n",
       "19381  fb35e85c-12e7-4cee-b4ea-7c1fd06969a2       Whatsapp         NaN           NaN        NaN      system   system_info                                             terima kasih telah menghubungi kami. dalam upaya untuk terus meningkatkan kualitas layanan kami, mohon kesediaannya untuk memberikan penilaiaan singkat tentang pengalaman anda terhadap layanan kami. penilaian anda akan sangat berguna untuk meningkatkan pelayanan kami ke depannya.\\nsilakan klik link di bawah ini untuk mengisi survey kepuasan pelanggan kami: https://chat.qontak.com/survey/pfzs5lhu 2023-11-06 07:05:55.144000+07:00                                                                                                                                                                                                                                                                                                                                                                    conversation has been resolved by <b>bot</b>   \n",
       "19382  fb35e85c-12e7-4cee-b4ea-7c1fd06969a2       Whatsapp         NaN           NaN        NaN      system   system_info                                                                                                                                                                                                                                                                                                                                                                                                               conversation has been resolved by <b>bot</b> 2023-11-06 07:05:55.259056+07:00                                                                                                                                                                                                                                                                                                                                                                survey score has been sent to <b>anisya desy</b>   \n",
       "19383  fb35e85c-12e7-4cee-b4ea-7c1fd06969a2       Whatsapp         NaN           NaN        NaN      system   system_info                                                                                                                                                                                                                                                                                                                                                                                                           survey score has been sent to <b>anisya desy</b> 2023-11-06 07:05:55.432142+07:00                                                                                                                                                                                                                                                                                                                                                                                                                   \n",
       "2442   1fd4903b-51bd-4ed0-b0d7-4fa783077143       Whatsapp         NaN           NaN        NaN      system   system_info  hi👋 \\ningin berdiskusi dengan tim admission terkait program kami? mohon menunggu sebentar, tim admission kami akan segera pada jam operasional kami 😁 \\nselagi menunggu, silahkan mengisi form di bawah ini, untuk memudahkan kami dalam memberikan detail informasi yang kamu butuhkan. \\n1. nama : \\n2. email : \\n3. kamu tertarik program purwadhika yang mana? : \\n4. informasi yang ingin diketahui : \\n5. tahu purwadhika pertama kali darimana? :  2023-11-06 07:54:46.251957+07:00  terima kasih telah menghubungi kami. dalam upaya untuk terus meningkatkan kualitas layanan kami, mohon kesediaannya untuk memberikan penilaiaan singkat tentang pengalaman anda terhadap layanan kami. penilaian anda akan sangat berguna untuk meningkatkan pelayanan kami ke depannya.\\nsilakan klik link di bawah ini untuk mengisi survey kepuasan pelanggan kami: https://chat.qontak.com/survey/faxrmhqr   \n",
       "\n",
       "      lead transaksi_kapan transaction_link  \n",
       "19380  NaN            None             None  \n",
       "19381  NaN            None             None  \n",
       "19382  NaN            None             None  \n",
       "19383  NaN            None             None  \n",
       "2442   NaN            None             None  "
      ]
     },
     "execution_count": 922,
     "metadata": {},
     "output_type": "execute_result"
    }
   ],
   "source": [
    "# function untuk cek link transaksi pada chat room\n",
    "def extract_transaction_url(text):\n",
    "    url_pattern = re.compile(r'https://purwadhika\\.com/transaction-form/[a-zA-Z0-9%\\-._~:/?#\\[\\]@!$&\\'()*+,;=]+')\n",
    "    urls = url_pattern.findall(text)\n",
    "    return urls[0] if urls else None\n",
    "\n",
    "# membuat kolom hot lead berdasarkan chat 'transaksi kapan'\n",
    "customer_status['transaksi_kapan'] = customer_status['text_messages'].apply(lambda x : 'hot' if 'transaksi kapan' in x else None)\n",
    "\n",
    "# membuat kolom link transaksi berdasarkan chat link transaksi\n",
    "customer_status['transaction_link'] = customer_status['text_messages'].apply(extract_transaction_url)\n",
    "\n",
    "customer_status.head()"
   ]
  },
  {
   "cell_type": "code",
   "execution_count": 923,
   "metadata": {},
   "outputs": [],
   "source": [
    "# replace value link transaksi dengan 'hot'\n",
    "customer_status['transaction_link'] = np.where(customer_status['transaction_link'].notna(), 'hot', None)\n",
    "\n",
    "# menggabungkan hasil search dari transaksi kapan dan link transaksi\n",
    "customer_status['transaksi_kapan'] = np.where((customer_status['transaksi_kapan'].isna()) & (customer_status['transaction_link'].notna()), customer_status['transaction_link'], customer_status['transaksi_kapan'])\n",
    "\n",
    "# replace value lead apabila terdapat chat adalah hot lead\n",
    "customer_status['lead'] = np.where((customer_status['lead'] != 'hot') & (customer_status['transaksi_kapan'] == 'hot'), customer_status['transaksi_kapan'], customer_status['lead'])"
   ]
  },
  {
   "cell_type": "code",
   "execution_count": 924,
   "metadata": {},
   "outputs": [
    {
     "data": {
      "text/plain": [
       "lead\n",
       "no lead    14873\n",
       "warm         163\n",
       "hot           14\n",
       "Name: count, dtype: int64"
      ]
     },
     "execution_count": 924,
     "metadata": {},
     "output_type": "execute_result"
    }
   ],
   "source": [
    "# jumlah chat berdasarkan customer status\n",
    "customer_status['lead'].value_counts()"
   ]
  },
  {
   "cell_type": "code",
   "execution_count": 925,
   "metadata": {},
   "outputs": [],
   "source": [
    "# grouping lead per room_id\n",
    "def aggregate_lead(lead):\n",
    "    if 'hot' in lead.values:\n",
    "        return 'hot'            # jika ada satu hot lead maka 1 chat room tersebut akan ditandai 'hot'\n",
    "    elif 'warm' in lead.values:\n",
    "        return 'warm'           # jika ada satu warm lead maka 1 chat room tersebut akan ditandai 'warm'\n",
    "    else:\n",
    "        return 'no lead'\n",
    "    \n",
    "customer_status = customer_status.groupby('room_id')['lead'].apply(aggregate_lead).reset_index()"
   ]
  },
  {
   "cell_type": "code",
   "execution_count": 926,
   "metadata": {},
   "outputs": [
    {
     "data": {
      "text/html": [
       "<div>\n",
       "<style scoped>\n",
       "    .dataframe tbody tr th:only-of-type {\n",
       "        vertical-align: middle;\n",
       "    }\n",
       "\n",
       "    .dataframe tbody tr th {\n",
       "        vertical-align: top;\n",
       "    }\n",
       "\n",
       "    .dataframe thead th {\n",
       "        text-align: right;\n",
       "    }\n",
       "</style>\n",
       "<table border=\"1\" class=\"dataframe\">\n",
       "  <thead>\n",
       "    <tr style=\"text-align: right;\">\n",
       "      <th></th>\n",
       "      <th>room_id</th>\n",
       "      <th>lead</th>\n",
       "    </tr>\n",
       "  </thead>\n",
       "  <tbody>\n",
       "    <tr>\n",
       "      <th>0</th>\n",
       "      <td>0003172b-353d-4597-baae-589c294d2058</td>\n",
       "      <td>no lead</td>\n",
       "    </tr>\n",
       "    <tr>\n",
       "      <th>1</th>\n",
       "      <td>002a9e9b-fd59-4682-8148-8b8aa333647c</td>\n",
       "      <td>no lead</td>\n",
       "    </tr>\n",
       "    <tr>\n",
       "      <th>2</th>\n",
       "      <td>004004ff-4da7-4c58-ab9b-e850e6022a85</td>\n",
       "      <td>no lead</td>\n",
       "    </tr>\n",
       "    <tr>\n",
       "      <th>3</th>\n",
       "      <td>004aa5ae-102a-45c6-b7ea-ad4fc0ad86ea</td>\n",
       "      <td>no lead</td>\n",
       "    </tr>\n",
       "    <tr>\n",
       "      <th>4</th>\n",
       "      <td>006d10a1-8d51-4ed0-bcef-672e01157fea</td>\n",
       "      <td>no lead</td>\n",
       "    </tr>\n",
       "  </tbody>\n",
       "</table>\n",
       "</div>"
      ],
      "text/plain": [
       "                                room_id     lead\n",
       "0  0003172b-353d-4597-baae-589c294d2058  no lead\n",
       "1  002a9e9b-fd59-4682-8148-8b8aa333647c  no lead\n",
       "2  004004ff-4da7-4c58-ab9b-e850e6022a85  no lead\n",
       "3  004aa5ae-102a-45c6-b7ea-ad4fc0ad86ea  no lead\n",
       "4  006d10a1-8d51-4ed0-bcef-672e01157fea  no lead"
      ]
     },
     "execution_count": 926,
     "metadata": {},
     "output_type": "execute_result"
    }
   ],
   "source": [
    "customer_status.head()"
   ]
  },
  {
   "cell_type": "markdown",
   "metadata": {},
   "source": [
    "### ***Link Chat Room***\n",
    "- Menambahkan *link* Mekari Qontak untuk mempermudah pengecekan percakapan."
   ]
  },
  {
   "cell_type": "code",
   "execution_count": 927,
   "metadata": {},
   "outputs": [
    {
     "data": {
      "text/html": [
       "<div>\n",
       "<style scoped>\n",
       "    .dataframe tbody tr th:only-of-type {\n",
       "        vertical-align: middle;\n",
       "    }\n",
       "\n",
       "    .dataframe tbody tr th {\n",
       "        vertical-align: top;\n",
       "    }\n",
       "\n",
       "    .dataframe thead th {\n",
       "        text-align: right;\n",
       "    }\n",
       "</style>\n",
       "<table border=\"1\" class=\"dataframe\">\n",
       "  <thead>\n",
       "    <tr style=\"text-align: right;\">\n",
       "      <th></th>\n",
       "      <th>room_id</th>\n",
       "      <th>link</th>\n",
       "    </tr>\n",
       "  </thead>\n",
       "  <tbody>\n",
       "    <tr>\n",
       "      <th>0</th>\n",
       "      <td>fb35e85c-12e7-4cee-b4ea-7c1fd06969a2</td>\n",
       "      <td>https://chat.qontak.com/inbox?room=fb35e85c-12e7-4cee-b4ea-7c1fd06969a2</td>\n",
       "    </tr>\n",
       "    <tr>\n",
       "      <th>4</th>\n",
       "      <td>1fd4903b-51bd-4ed0-b0d7-4fa783077143</td>\n",
       "      <td>https://chat.qontak.com/inbox?room=1fd4903b-51bd-4ed0-b0d7-4fa783077143</td>\n",
       "    </tr>\n",
       "    <tr>\n",
       "      <th>8</th>\n",
       "      <td>593f8d20-e167-485f-92da-1209ecae9b48</td>\n",
       "      <td>https://chat.qontak.com/inbox?room=593f8d20-e167-485f-92da-1209ecae9b48</td>\n",
       "    </tr>\n",
       "    <tr>\n",
       "      <th>9</th>\n",
       "      <td>b481b6b9-163f-47f3-8c50-dd8af208a6ca</td>\n",
       "      <td>https://chat.qontak.com/inbox?room=b481b6b9-163f-47f3-8c50-dd8af208a6ca</td>\n",
       "    </tr>\n",
       "    <tr>\n",
       "      <th>13</th>\n",
       "      <td>b70bbd3a-f90a-4685-abcc-6114b7de5a2e</td>\n",
       "      <td>https://chat.qontak.com/inbox?room=b70bbd3a-f90a-4685-abcc-6114b7de5a2e</td>\n",
       "    </tr>\n",
       "    <tr>\n",
       "      <th>...</th>\n",
       "      <td>...</td>\n",
       "      <td>...</td>\n",
       "    </tr>\n",
       "    <tr>\n",
       "      <th>19947</th>\n",
       "      <td>767a8329-6ff4-41b7-b716-3b7190bfd3db</td>\n",
       "      <td>https://chat.qontak.com/inbox?room=767a8329-6ff4-41b7-b716-3b7190bfd3db</td>\n",
       "    </tr>\n",
       "    <tr>\n",
       "      <th>19949</th>\n",
       "      <td>23583131-8838-49d0-9523-22fac36806ad</td>\n",
       "      <td>https://chat.qontak.com/inbox?room=23583131-8838-49d0-9523-22fac36806ad</td>\n",
       "    </tr>\n",
       "    <tr>\n",
       "      <th>19959</th>\n",
       "      <td>f8ed8de5-5681-465d-9dd8-b88fe775b6d0</td>\n",
       "      <td>https://chat.qontak.com/inbox?room=f8ed8de5-5681-465d-9dd8-b88fe775b6d0</td>\n",
       "    </tr>\n",
       "    <tr>\n",
       "      <th>19979</th>\n",
       "      <td>bfc8dd4f-680c-4cb7-9eb1-29586e33444d</td>\n",
       "      <td>https://chat.qontak.com/inbox?room=bfc8dd4f-680c-4cb7-9eb1-29586e33444d</td>\n",
       "    </tr>\n",
       "    <tr>\n",
       "      <th>19981</th>\n",
       "      <td>faf1a0f2-4ce0-4dd5-afbe-65ef77710c3d</td>\n",
       "      <td>https://chat.qontak.com/inbox?room=faf1a0f2-4ce0-4dd5-afbe-65ef77710c3d</td>\n",
       "    </tr>\n",
       "  </tbody>\n",
       "</table>\n",
       "<p>2844 rows × 2 columns</p>\n",
       "</div>"
      ],
      "text/plain": [
       "                                    room_id                                                                     link\n",
       "0      fb35e85c-12e7-4cee-b4ea-7c1fd06969a2  https://chat.qontak.com/inbox?room=fb35e85c-12e7-4cee-b4ea-7c1fd06969a2\n",
       "4      1fd4903b-51bd-4ed0-b0d7-4fa783077143  https://chat.qontak.com/inbox?room=1fd4903b-51bd-4ed0-b0d7-4fa783077143\n",
       "8      593f8d20-e167-485f-92da-1209ecae9b48  https://chat.qontak.com/inbox?room=593f8d20-e167-485f-92da-1209ecae9b48\n",
       "9      b481b6b9-163f-47f3-8c50-dd8af208a6ca  https://chat.qontak.com/inbox?room=b481b6b9-163f-47f3-8c50-dd8af208a6ca\n",
       "13     b70bbd3a-f90a-4685-abcc-6114b7de5a2e  https://chat.qontak.com/inbox?room=b70bbd3a-f90a-4685-abcc-6114b7de5a2e\n",
       "...                                     ...                                                                      ...\n",
       "19947  767a8329-6ff4-41b7-b716-3b7190bfd3db  https://chat.qontak.com/inbox?room=767a8329-6ff4-41b7-b716-3b7190bfd3db\n",
       "19949  23583131-8838-49d0-9523-22fac36806ad  https://chat.qontak.com/inbox?room=23583131-8838-49d0-9523-22fac36806ad\n",
       "19959  f8ed8de5-5681-465d-9dd8-b88fe775b6d0  https://chat.qontak.com/inbox?room=f8ed8de5-5681-465d-9dd8-b88fe775b6d0\n",
       "19979  bfc8dd4f-680c-4cb7-9eb1-29586e33444d  https://chat.qontak.com/inbox?room=bfc8dd4f-680c-4cb7-9eb1-29586e33444d\n",
       "19981  faf1a0f2-4ce0-4dd5-afbe-65ef77710c3d  https://chat.qontak.com/inbox?room=faf1a0f2-4ce0-4dd5-afbe-65ef77710c3d\n",
       "\n",
       "[2844 rows x 2 columns]"
      ]
     },
     "execution_count": 927,
     "metadata": {},
     "output_type": "execute_result"
    }
   ],
   "source": [
    "link = df_chat.copy()\n",
    "link = link[['room_id']].drop_duplicates()\n",
    "link['link'] = 'https://chat.qontak.com/inbox?room=' + link['room_id']\n",
    "link"
   ]
  },
  {
   "cell_type": "markdown",
   "metadata": {},
   "source": [
    "### ***New DataFrame Chat Room***\n",
    "\n",
    "Menggabungkan tabel yang sudah dibuat"
   ]
  },
  {
   "cell_type": "code",
   "execution_count": 928,
   "metadata": {},
   "outputs": [],
   "source": [
    "df_chat_room = df_chat.copy()\n",
    "df_chat_room = df_chat_room[[\"room_id\", \"customer_id\", \"customer_name\"]].drop_duplicates(subset=\"room_id\")"
   ]
  },
  {
   "cell_type": "code",
   "execution_count": 929,
   "metadata": {},
   "outputs": [
    {
     "data": {
      "text/plain": [
       "2844"
      ]
     },
     "execution_count": 929,
     "metadata": {},
     "output_type": "execute_result"
    }
   ],
   "source": [
    "df_chat_room = df_chat_room.merge(origin, on='room_id', how='left')\n",
    "df_chat_room = df_chat_room.merge(final_products, on='room_id', how='left')\n",
    "df_chat_room = df_chat_room.merge(branch_new, on='room_id', how='left')\n",
    "df_chat_room = df_chat_room.merge(room_created, on='room_id', how='left')\n",
    "df_chat_room = df_chat_room.merge(room_status, on='room_id', how='left')\n",
    "df_chat_room = df_chat_room.merge(agent_handler, on='room_id', how='left')\n",
    "df_chat_room = df_chat_room.merge(payment_time, on='room_id', how='left')\n",
    "df_chat_room = df_chat_room.merge(deal_status, on='room_id', how='left')\n",
    "df_chat_room = df_chat_room.merge(last_chat, on='room_id', how='left')\n",
    "df_chat_room = df_chat_room.merge(lost_customer, on='room_id', how='left')\n",
    "df_chat_room = df_chat_room.merge(customer_status, on='room_id', how='left')\n",
    "df_chat_room = df_chat_room.merge(link, on='room_id', how='left')\n",
    "\n",
    "df_chat_room[\"room_id\"].nunique()"
   ]
  },
  {
   "cell_type": "code",
   "execution_count": 930,
   "metadata": {},
   "outputs": [
    {
     "data": {
      "text/plain": [
       "2864"
      ]
     },
     "execution_count": 930,
     "metadata": {},
     "output_type": "execute_result"
    }
   ],
   "source": [
    "len(df_chat_room)"
   ]
  },
  {
   "cell_type": "markdown",
   "metadata": {},
   "source": [
    "## **Deskripsi Data Baru**\n",
    "\n",
    "`df_chat_room` adalah data yang didapat dari hasil *cleaning* dan manipulasi data untuk mendapatkan info-info lebih lanjut dari masing-masing *chat room* yang ada. Berikut adalah rincian dari `df_chat_room`:\n",
    "\n",
    "| **No.** | **Kolom** | **Deskripsi** |\n",
    "| --- | --- | --- |\n",
    "|  1. | room_id | *ID Room* dari masing-masing *chat room*, biasanya 1 calon prospek mempunyai 1 room_id |\n",
    "|  2. | customer_id | No. HP dari calon prospek |\n",
    "|  3. | customer_name |  Nama/*Nickname* calon prospek |\n",
    "|  4. | customer_origin | Darimana calon prospek berasal (*Website/IG/Direct*) |\n",
    "|  5. | products | Produk yang diminati calon prospek |\n",
    "|  6. | branch | Branch calon prospek ingin mendaftar |\n",
    "|  7. | room_status | Sudah ada *agent* yang mengelola atau belum (*Assign/Unassign*) |\n",
    "|  8. | agent_handler | *Agent* yang paling sering muncul dalam suatu *chat room* |\n",
    "|  9. | payment_time | Waktu calon prospek berhasil melakukan pendaftaran, ditandai dengan pemberian jaket atau bukti pembayaran dari calon prospek |\n",
    "|  10. | deal_status | Status pembayaran: **Not Deal**: Belum ada konfirmasi (pemberian jaket),  **Deal**: Sudah diberikan jaket|\n",
    "|  11. | last_messages | Pesan yang dikirimkan terakhir |\n",
    "|  12. | last_sender | Pengirim pesan terakhir di *chat room* tersebut (*agent*, *customer*, *system*) |\n",
    "|  13. | last_messages_time | Waktu saat pesan terakhir dikirimkan |\n",
    "|  14. | lost_customer | Menandakan apabila calon prospek merupakan *Lost Customer*|\n",
    "|  15. | loss_time | Waktu saat calon prospek dinyatakan sebagai *Lost Customer* |\n",
    "|  16. | lead | status calon prospek berdasarkan percakapan yang berlangsung, ***no lead***: tidak ada karakteristik khusus, ***warm*** : Prospek Hangat, ***hot***: Prospek Panas |"
   ]
  },
  {
   "cell_type": "markdown",
   "metadata": {},
   "source": [
    "## ***Exploratory Data Analysis***"
   ]
  },
  {
   "cell_type": "code",
   "execution_count": 931,
   "metadata": {},
   "outputs": [
    {
     "data": {
      "text/plain": [
       "383"
      ]
     },
     "execution_count": 931,
     "metadata": {},
     "output_type": "execute_result"
    }
   ],
   "source": [
    "# Jumlah lost customer\n",
    "df_chat_room[(df_chat_room['lost_customer'] == 'Customer Loss') & (df_chat_room['deal_status'] == 'Not Deal')].shape[0]"
   ]
  },
  {
   "cell_type": "markdown",
   "metadata": {},
   "source": [
    "Terdapat **383 *Lost Customers*** pada periode 6-19 November 2023."
   ]
  },
  {
   "cell_type": "code",
   "execution_count": 932,
   "metadata": {},
   "outputs": [
    {
     "data": {
      "image/png": "[encoded data removed]",
      "text/plain": [
       "<Figure size 1500x600 with 1 Axes>"
      ]
     },
     "metadata": {},
     "output_type": "display_data"
    }
   ],
   "source": [
    "# group by branch\n",
    "plot1 = df_chat_room.groupby('branch')[['room_id']].count().sort_values(by='room_id', ascending=False).reset_index()\n",
    "\n",
    "plt.figure(figsize = (15,6))\n",
    "plt.title('Most Enquired Bootcamp Branch', size = 16)\n",
    "plots = sns.barplot(data = plot1, x = 'branch', y='room_id')\n",
    "\n",
    "# annotate label\n",
    "for bar in plots.patches:\n",
    "    plots.annotate(format(bar.get_height(), '.0f'), \n",
    "                   (bar.get_x() + bar.get_width() / 2, \n",
    "                    bar.get_height()), ha='center', va='center',\n",
    "                   size=12, xytext=(0, 8),\n",
    "                   textcoords='offset points')\n",
    "    \n",
    "plt.xlabel('Branch', size = 12)\n",
    "plt.ylabel('Customer Enquiry', size = 12)\n",
    "plt.xticks(rotation = 90);"
   ]
  },
  {
   "cell_type": "markdown",
   "metadata": {},
   "source": [
    "***Insight***:\n",
    "- Kelas *Online* merupakan kelas yang paling diminati oleh calon prospek.\n",
    "- Kelas *On Campus* Jakarta merupakan kelas berikutnya yang memiliki cukup banyak peminat sebanyak 105 calon prospek."
   ]
  },
  {
   "cell_type": "code",
   "execution_count": 933,
   "metadata": {},
   "outputs": [
    {
     "data": {
      "image/png": "[encoded data removed]",
      "text/plain": [
       "<Figure size 1500x600 with 1 Axes>"
      ]
     },
     "metadata": {},
     "output_type": "display_data"
    }
   ],
   "source": [
    "# group by products\n",
    "plot2 = df_chat_room.groupby('products')[['room_id']].count().sort_values(by='room_id', ascending=False).reset_index().head(10)\n",
    "\n",
    "plt.figure(figsize = (15,6))\n",
    "plt.title('Most Enquired Bootcamp Products', size = 16)\n",
    "plots = sns.barplot(data = plot2, x = 'products', y='room_id')\n",
    "\n",
    "# annotate label\n",
    "for bar in plots.patches:\n",
    "    plots.annotate(format(bar.get_height(), '.0f'), \n",
    "                   (bar.get_x() + bar.get_width() / 2, \n",
    "                    bar.get_height()), ha='center', va='center',\n",
    "                   size=12, xytext=(0, 8),\n",
    "                   textcoords='offset points')\n",
    "    \n",
    "plt.xlabel('Products', size = 12)\n",
    "plt.ylabel('Customer Enquiry', size = 12)\n",
    "plt.xticks(rotation = 90);"
   ]
  },
  {
   "cell_type": "markdown",
   "metadata": {},
   "source": [
    "***Insight***:\n",
    "- Terdapat 3 produk *bootcamp* yang paling banyak diminati oleh calon prospek:\n",
    "    1. *Job Connector Bootcamp Digital Marketing*, sebanyak **165 calon prospek**.\n",
    "    2. *Job Connector Bootcamp Fullstack Web Development*, sebanyak **141 calon prospek**.\n",
    "    3. *Job Connector Bootcamp Data Science and Machine Learning*, sebanyak **107 calon prospek**."
   ]
  },
  {
   "cell_type": "markdown",
   "metadata": {},
   "source": [
    "## ***Data Load***"
   ]
  },
  {
   "cell_type": "code",
   "execution_count": 935,
   "metadata": {},
   "outputs": [
    {
     "name": "stdout",
     "output_type": "stream",
     "text": [
      "Data uploaded successfully!\n"
     ]
    }
   ],
   "source": [
    "import gspread\n",
    "from oauth2client.service_account import ServiceAccountCredentials\n",
    "from gspread_dataframe import set_with_dataframe\n",
    "\n",
    "# Path to your service account key file\n",
    "SERVICE_ACCOUNT_FILE = 'customer-enquiry-431809-2ffbd2f82785.json'\n",
    "\n",
    "# Define the required scopes\n",
    "SCOPES = ['https://spreadsheets.google.com/feeds', 'https://www.googleapis.com/auth/drive']\n",
    "\n",
    "# Authenticate and create the service\n",
    "credentials = ServiceAccountCredentials.from_json_keyfile_name(SERVICE_ACCOUNT_FILE, SCOPES)\n",
    "gc = gspread.authorize(credentials)\n",
    "\n",
    "def search_file_in_folder(file_name, folder_id):\n",
    "    query = f\"name = '{file_name}' and '{folder_id}' in parents and trashed = false\"\n",
    "    results = service.files().list(q=query, fields=\"files(id, name)\").execute()\n",
    "    files = results.get('files', [])\n",
    "    return files[0] if files else None\n",
    "\n",
    "# Open the Google Sheet by name or URL\n",
    "spreadsheet = gc.open(\"customer enquiry\")\n",
    "worksheet = spreadsheet.sheet1  # Select the first sheet in the Google Sheet\n",
    "\n",
    "# Clear the worksheet before updating it (optional)\n",
    "worksheet.clear()\n",
    "\n",
    "# Upload the DataFrame to Google Sheets\n",
    "set_with_dataframe(worksheet, df_chat_room)\n",
    "\n",
    "print(\"Data uploaded successfully!\")"
   ]
  }
 ],
 "metadata": {
  "kernelspec": {
   "display_name": "base",
   "language": "python",
   "name": "python3"
  },
  "language_info": {
   "codemirror_mode": {
    "name": "ipython",
    "version": 3
   },
   "file_extension": ".py",
   "mimetype": "text/x-python",
   "name": "python",
   "nbconvert_exporter": "python",
   "pygments_lexer": "ipython3",
   "version": "3.11.9"
  }
 },
 "nbformat": 4,
 "nbformat_minor": 2
}
